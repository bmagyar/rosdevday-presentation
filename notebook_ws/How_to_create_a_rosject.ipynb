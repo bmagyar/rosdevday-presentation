{
 "cells": [
  {
   "cell_type": "markdown",
   "metadata": {},
   "source": [
    "[In this notebook, you will learn how to create your rosject for the ROSDevDay including ROS code, Gazebo simulation and documentation]\n",
    "\n",
    "[Edit this notebook to create the documentation of your rosject]\n",
    "\n",
    "[Every text that is between brakets [] indicates steps that you must do to build your rosject documentation. You can remove that text when you are finished]"
   ]
  },
  {
   "cell_type": "markdown",
   "metadata": {},
   "source": [
    "### [IMPORTANT: this template is running an Ubuntu 20.04 + ROS Noetic setup. If you need to use a different ROS configuration, follow the next steps]\n",
    "\n",
    "1. Go back to your lists of rosjects\n",
    "2. Click on the image of this rosject\n",
    "3. On the screen that appears, select the Edit option\n",
    "4. Go to the option called *ROS CONFIGURATION* and select there a different ROS distribution. At current we support:\n",
    "    * ROS Kinetic\n",
    "    * ROS Melodic\n",
    "    * ROS Noetic\n",
    "    * ROS2 Eloquent\n",
    "    * ROS2 Foxy\n",
    "5. Then press *Update*\n",
    "6. Now open again the rosject. It will open this rosject template with the new configuration"
   ]
  },
  {
   "cell_type": "markdown",
   "metadata": {},
   "source": [
    "# [Substitute the image below by the logo of your company/university] #"
   ]
  },
  {
   "cell_type": "markdown",
   "metadata": {},
   "source": [
    "![](images/logos/image_ROSDevDay21.png)"
   ]
  },
  {
   "cell_type": "markdown",
   "metadata": {},
   "source": [
    "# [WRITE HERE THE TITLE OF YOUR TALK] #"
   ]
  },
  {
   "cell_type": "markdown",
   "metadata": {},
   "source": [
    "[Write here briefly the description of your talk. Indicate what the attendants are going to learn from your talk in bullet points]"
   ]
  },
  {
   "cell_type": "markdown",
   "metadata": {},
   "source": [
    "[Indicate here the robot or hardware you are going to create the programs for]"
   ]
  },
  {
   "cell_type": "markdown",
   "metadata": {},
   "source": [
    "[Substitute the image below by the image of your robot or hardware]\n",
    "\n",
    "![Image obtained from IF World Design Guide](images/franka.jpg)"
   ]
  },
  {
   "cell_type": "markdown",
   "metadata": {},
   "source": [
    "## WHO AM I"
   ]
  },
  {
   "cell_type": "markdown",
   "metadata": {},
   "source": [
    "[A brief introduction of yourself and your affiliation. Basically indicate why you can talk about this subject. You can add a picture of yourself if you want]"
   ]
  },
  {
   "cell_type": "markdown",
   "metadata": {},
   "source": [
    "## LET'S LAUNCH THE SIMULATION"
   ]
  },
  {
   "cell_type": "markdown",
   "metadata": {},
   "source": [
    "[Upload the simulation you will use during the presentation to the *simulation_ws/src* folder. You can either upload or *git clone*.\n",
    "**To upload**, open the IDE (icons at the bottom), and right click on the directory. Then select upload\n",
    "**To clone**, open a terminal (icons at the bottom), navigate to the directory and do your git clone]"
   ]
  },
  {
   "cell_type": "markdown",
   "metadata": {},
   "source": [
    "[Provide here instructions for the audience about how to launch the simulation. Delete this section if your presentation does not use a simulation]"
   ]
  },
  {
   "cell_type": "markdown",
   "metadata": {},
   "source": [
    "[For ex. instructions about how to launch the Franka Emika simulation (whose code is included inside the *simulation_ws/src* directory of this rosject):"
   ]
  },
  {
   "cell_type": "markdown",
   "metadata": {},
   "source": [
    "1. Go to the top menu and select Simulations\n",
    "2. On the screen that appears, press the blue button that says *Choose launch file*\n",
    "3. On the new box that appears, click on the drop down menu and select the launch file *simulation.launch*\n",
    "4. After a few seconds, you will have a new window with a Gazebo simulation of the Panda robot]"
   ]
  },
  {
   "cell_type": "markdown",
   "metadata": {},
   "source": [
    "[substitute the image below by the expected window the audience will get after launching the simulation]"
   ]
  },
  {
   "cell_type": "markdown",
   "metadata": {},
   "source": [
    "![](images/rosject_images/panda-in-gazebo.png)"
   ]
  },
  {
   "cell_type": "markdown",
   "metadata": {},
   "source": [
    "## [Write your main subject title here]"
   ]
  },
  {
   "cell_type": "markdown",
   "metadata": {},
   "source": [
    "[Write here the explanation of your subject. The shorter the better. You can use additional images or videos to make clearer your explanation]"
   ]
  },
  {
   "cell_type": "markdown",
   "metadata": {},
   "source": [
    "## [Write the title of your practical demo]"
   ]
  },
  {
   "cell_type": "markdown",
   "metadata": {},
   "source": [
    "[Describe here step by step how to do and replicate your experiment/program/code result. The steps must be clear and reproducible by the audience. The clearer they are, the easier it will be for you to follow along the notes during your presentation]"
   ]
  },
  {
   "cell_type": "markdown",
   "metadata": {},
   "source": [
    "[Include paragraphs with code (C++, Python, XML) or command lines if necessary, like the following three]"
   ]
  },
  {
   "cell_type": "markdown",
   "metadata": {},
   "source": [
    "[ex. of command line]"
   ]
  },
  {
   "cell_type": "code",
   "execution_count": null,
   "metadata": {},
   "outputs": [],
   "source": [
    "$ cd /home/user/simulation_ws/src"
   ]
  },
  {
   "cell_type": "markdown",
   "metadata": {},
   "source": [
    "[ex. of launch file]"
   ]
  },
  {
   "cell_type": "code",
   "execution_count": null,
   "metadata": {},
   "outputs": [],
   "source": [
    "<?xml version=\"1.0\"?>\n",
    "<launch>\n",
    "    <!-- maps inside the folder summit_xl_navigation/maps -->\n",
    "    <arg name=\"map_file\" default=\"map1/map1.yaml\"/>\n",
    "    <arg name=\"prefix\" default=\"summit_xl_\"/>\n",
    "    <arg name=\"frame_id\" default=\"$(arg prefix)map\"/>\n",
    "\n",
    "    <!-- Run the map server -->\n",
    "    <node name=\"map_server\" pkg=\"map_server\" type=\"map_server\" args=\"$(find summit_xl_localization)/maps/$(arg map_file)\">\n",
    "        <param name=\"frame_id\" value=\"$(arg frame_id)\"/>\n",
    "    </node>\n",
    "\n",
    "</launch>"
   ]
  },
  {
   "cell_type": "markdown",
   "metadata": {},
   "source": [
    "[ex. of C++ code]"
   ]
  },
  {
   "cell_type": "code",
   "execution_count": null,
   "metadata": {},
   "outputs": [],
   "source": [
    "if ( !inliers->indices.empty() )\n",
    "{\n",
    "    //Extract inliers\n",
    "    pcl::ExtractIndices<PointT> extract;\n",
    "    extract.setInputCloud(inputCloud);\n",
    "    extract.setIndices(inliers);\n",
    "    extract.setNegative(false);\n",
    "    extract.filter(*cylinderCloud);\n",
    "    return true;\n",
    "}"
   ]
  },
  {
   "cell_type": "markdown",
   "metadata": {},
   "source": [
    "[Include images of the expected results to help audience understand your point, like the following image]"
   ]
  },
  {
   "cell_type": "markdown",
   "metadata": {},
   "source": [
    "![](images/rosject_images/sim7.png)"
   ]
  },
  {
   "cell_type": "markdown",
   "metadata": {},
   "source": [
    "[If you need extra code already available to the audience (for example, in case you want to use an arm robot with MoveIt and you need the MoveIt configuration already done) you can upload the code and ROS packages to the catkin_ws/src directory using the IDE->Upload option]"
   ]
  },
  {
   "cell_type": "markdown",
   "metadata": {},
   "source": [
    "[If you need to provide a dataset, follow instructions below about how to create/upload a dataset and provide it to audience]"
   ]
  },
  {
   "cell_type": "markdown",
   "metadata": {},
   "source": [
    "## [Concluding remarks]"
   ]
  },
  {
   "cell_type": "markdown",
   "metadata": {},
   "source": [
    "\n",
    "[Write here your conclusions]"
   ]
  },
  {
   "cell_type": "markdown",
   "metadata": {},
   "source": [
    "# Examples of notebooks from previous speakers"
   ]
  },
  {
   "cell_type": "markdown",
   "metadata": {},
   "source": [
    "* [ROSDevcon2019 TIAGo PCL table segmentation, by Luca Marchionni from Pal Robotics](notebook_examples/tiago/Course_TiagoInstructionManual_Unit7.ipynb)\n",
    "* [ROSDevCon2018 ROS Navigation Stack, by Roman Navarro from Robotnik](notebook_examples/robotnik/robotnik_presentation.ipynb)\n",
    "* [ROSDevCon2019 Unix Domain Socket Communication in ROS, by Fujita Tomoya from Sony](notebook_examples/sony/1-Overview.ipynb)"
   ]
  },
  {
   "cell_type": "markdown",
   "metadata": {},
   "source": [
    "# Extra ROSject Documentation\n",
    "\n",
    "[You can delete all the information in this section if you don't need it]"
   ]
  }
 ],
 "metadata": {
  "kernelspec": {
   "display_name": "Python 2",
   "language": "python",
   "name": "python2"
  },
  "language_info": {
   "codemirror_mode": {
    "name": "ipython",
    "version": 2
   },
   "file_extension": ".py",
   "mimetype": "text/x-python",
   "name": "python",
   "nbconvert_exporter": "python",
   "pygments_lexer": "ipython2",
   "version": "2.7.16"
  }
 },
 "nbformat": 4,
 "nbformat_minor": 1
}
