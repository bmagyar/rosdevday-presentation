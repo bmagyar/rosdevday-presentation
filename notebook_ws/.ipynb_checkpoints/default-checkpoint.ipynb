{
 "cells": [
  {
   "cell_type": "markdown",
   "metadata": {},
   "source": [
    "## IPython Notebook\n",
    "\n",
    "This is your simulation notebook.\n",
    "\n",
    "You can use this notebook to add notes about your simulation or even code to interact with your robot.\n",
    "\n",
    "### Code example\n",
    "See below how it works executing some python code. Click on the next cell, press **Ctrl+Enter** and see the result."
   ]
  },
  {
   "cell_type": "code",
   "execution_count": null,
   "metadata": {
    "collapsed": false
   },
   "outputs": [],
   "source": [
    "a = 1+1\n",
    "print a"
   ]
  },
  {
   "cell_type": "markdown",
   "metadata": {},
   "source": [
    "## Interact with your simulation\n",
    "\n",
    "If you already knows python, you know how to integrate it to a ROS environment. It is also possible to do it in here, take a look below:"
   ]
  },
  {
   "cell_type": "code",
   "execution_count": null,
   "metadata": {
    "collapsed": false
   },
   "outputs": [],
   "source": [
    "import rospy\n",
    "\n",
    "print 'Hello from IPython to ROS'\n",
    "\n",
    "print rospy.get_param('/rosdistro')\n",
    "\n",
    "print rospy.get_param('/rosversion')"
   ]
  },
  {
   "cell_type": "markdown",
   "metadata": {},
   "source": [
    "## How to edit?\n",
    "\n",
    "If you **double-click** here, you will be able to edit this cell. To get out of the editor mode, press **Ctrl+Enter**.\n",
    "\n",
    "Explore the top bar to use all its functionalities.\n",
    "\n",
    "More about IPython notebooks: https://ipython.org/ipython-doc/3/interactive/tutorial.html"
   ]
  },
  {
   "cell_type": "markdown",
   "metadata": {},
   "source": [
    "## Save you IPython work\n",
    "\n",
    "To avoid losing your notebook changes save first the notebook with its saving icon\n",
    "\n",
    "![Notebook saving icon](images/notebook_save.jpg)\n",
    "\n",
    "and then click the general saving icon\n",
    "\n",
    "![Workspace saving icon](images/workspace_save.jpg)\n",
    "\n",
    "at the bottom to save all your project to the cloud."
   ]
  }
 ],
 "metadata": {
  "kernelspec": {
   "display_name": "Python 2",
   "language": "python",
   "name": "python2"
  },
  "language_info": {
   "codemirror_mode": {
    "name": "ipython",
    "version": 2
   },
   "file_extension": ".py",
   "mimetype": "text/x-python",
   "name": "python",
   "nbconvert_exporter": "python",
   "pygments_lexer": "ipython2",
   "version": "2.7.11"
  }
 },
 "nbformat": 4,
 "nbformat_minor": 0
}
