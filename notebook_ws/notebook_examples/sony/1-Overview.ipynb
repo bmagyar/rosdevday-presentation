{
 "cells": [
  {
   "cell_type": "markdown",
   "metadata": {},
   "source": [
    "Agenda\n",
    "============\n",
    "\n",
    "  * Self Introduction\n",
    "  * Aibo Introduction\n",
    "  * UDS(Unix Domain Socket) ROS Overvieww\n",
    "  * UDSROS Hands-On\n",
    "  * QA\n",
    "\n",
    "Who am I ?\n",
    "----------\n",
    "\n",
    "<img src=\"images/Selfie.JPG\" width=\"200\"> Tomoya Fujita\n",
    "\n",
    "  * 2008 -\n",
    "    * Embeded Firmware Engineer for ARM Platform\n",
    "    * MPEG Audio Encoder/Decoder Implementation (AAC, v1, v2)\n",
    "    * Audio Core Algorithm Development\n",
    "  * 2012 - \n",
    "    * Unix Operating System\n",
    "    * Coherent Memory Interface beyond Node Instances\n",
    "    * Userspace Message Queue Framework\n",
    "    * Virtualization / Hypervisor\n",
    "  * 2016 - Sony Corporation\n",
    "    * System Software Engineer / Architect\n",
    "    * Robotics Product Development\n",
    "    * ROS/ROS2 System Engineer\n",
    "\n",
    "Why ROS ?\n",
    "---------\n",
    "\n",
    "  * Common Software Framework for robotics and autonomous driving development\n",
    "  * Community activity is brisk\n",
    "  * Useful Tools for debug/build/documentation\n",
    "  * A lot of packages ready for robots\n",
    "  * Newest and Modern Software Framework and Architecture\n",
    "\n",
    "ROS Related Work\n",
    "----------------\n",
    "[![ROSCon2018 aibo](http://img.youtube.com/vi/twxWZKseo2M/0.jpg)](https://www.youtube.com/watch?reload=9&v=twxWZKseo2M)\n",
    "\n",
    "Many Thanks\n",
    "-----------\n",
    "### Gracias\n",
    "### Thank you\n",
    "### 谢谢\n",
    "### Danke\n",
    "### 감사 합니다\n",
    "### ありがとう\n",
    "\n",
    "Next\n",
    "----\n",
    "[Aibo Introduction](2-Aibo_Introductin.ipynb)"
   ]
  }
 ],
 "metadata": {
  "kernelspec": {
   "display_name": "Python 2",
   "language": "python",
   "name": "python2"
  },
  "language_info": {
   "codemirror_mode": {
    "name": "ipython",
    "version": 2
   },
   "file_extension": ".py",
   "mimetype": "text/x-python",
   "name": "python",
   "nbconvert_exporter": "python",
   "pygments_lexer": "ipython2",
   "version": "2.7.16"
  }
 },
 "nbformat": 4,
 "nbformat_minor": 1
}
