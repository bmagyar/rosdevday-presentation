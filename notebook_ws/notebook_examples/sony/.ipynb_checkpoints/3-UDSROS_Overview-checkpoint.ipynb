{
 "cells": [
  {
   "cell_type": "markdown",
   "metadata": {},
   "source": [
    "Transport Overview\n",
    "==================\n",
    "<img src=\"images/UDSROS_overview.png\">\n",
    "\n",
    "  * XMLRPC\n",
    "    * ROS Cumminication Configuration Data\n",
    "    * Only used during connection configuration\n",
    "    * e.g) who publishes/subscribes which topic or service\n",
    "  * **TCPROS/UDPROS**\n",
    "    * **User Data Payload**\n",
    "    * **Every Single Time on data transmission**\n",
    "\n",
    "UDSROS Enhancement\n",
    "==================\n",
    "<img src=\"images/OSI_Reference_Layer.png\" width=\"500\">\n",
    "\n",
    "<img src=\"images/UDSROS_arhitecture.png\">\n",
    "\n",
    "  * UDS(Unix Domain Socket) and TCP/UDP hybrid system.png\n",
    "  * Compatible ROS API for ROS application\n",
    "  * No need to change single line of code\n",
    "  * roscpp and rospy support\n",
    "\n",
    "### Source Code ###\n",
    "[ros_comm via Unix Domain Socket](https://github.com/fujitatomoya/ros_comm)\n",
    "\n",
    "How Improved\n",
    "============\n",
    "### Unix Domain Socket vs TCP/IP ###\n",
    "Let's see how much Unix Domain Socket is better than TCP/IP.\n",
    "> git clone https://github.com/tomoyafujita/ipc-bench\n",
    ">\n",
    "> cd ipc-bench\n",
    ">\n",
    "> make\n",
    ">\n",
    "> make run\n",
    "\n",
    "### ROS Improvement ###\n",
    "  * Publisher:Subscriber = 1:1\n",
    "  * Latency is the time window between publish and callback entrance\n",
    "  * Environment: amd64(skylake) and arm64(hikey)\n",
    "\n",
    "<img src=\"images/improvement_result.png\" width=\"500\">\n",
    "\n",
    "Let's Start Hands-On!!!\n",
    "=======================\n",
    "[UDSROS Hands-On!](4-UDSROS_HandsOn.ipynb)"
   ]
  }
 ],
 "metadata": {
  "kernelspec": {
   "display_name": "Python 2",
   "language": "python",
   "name": "python2"
  },
  "language_info": {
   "codemirror_mode": {
    "name": "ipython",
    "version": 2
   },
   "file_extension": ".py",
   "mimetype": "text/x-python",
   "name": "python",
   "nbconvert_exporter": "python",
   "pygments_lexer": "ipython2",
   "version": "2.7.16"
  }
 },
 "nbformat": 4,
 "nbformat_minor": 1
}
