{
 "cells": [
  {
   "cell_type": "markdown",
   "metadata": {},
   "source": [
    "What is aibo?\n",
    "=============\n",
    "\n",
    "*aibo is the home entertainment robot and also the autonomous robot that brings us emotional bond*\n",
    "*(available in Japan and US)*\n",
    "\n",
    "<img src=\"images/aibo_front_face.png\" width=\"300\">\n",
    "\n",
    "Concept\n",
    "-------\n",
    "  * Comes close to you\n",
    "  * Positive interaction\n",
    "\n",
    "aibo Platform\n",
    "=============\n",
    "<img src=\"images/aibo_system.png\">\n",
    "\n",
    "  * Edge Local Speech Recognition and Source Direction\n",
    "  * Fisheye Camera to have wide angle for recognition\n",
    "  * Local SLAM Process\n",
    "  * Commands Available for Dogs (Not wakeup commands)\n",
    "  * [Sony DNN Framework](https://github.com/sony/nnabla)\n",
    "\n",
    "### ROS Boundary ###\n",
    "<img src=\"images/aibo_ros_boundary.png\" width=\"500\">\n",
    "\n",
    "Sony Robotics Architecture\n",
    "==========================\n",
    "<img src=\"images/SonyRoboticsArchitecture.png\" width=\"600\">\n",
    "\n",
    "What is the problem for ROS\n",
    "===========================\n",
    "  * CPU Consumption (Body Heat for aibo)\n",
    "  * Lack of Real-Time (Latency / Throughput)\n",
    "\n",
    "Next\n",
    "----\n",
    "[Unix Domain Socket ROS Overview](3-UDSROS_Overview.ipynb)"
   ]
  }
 ],
 "metadata": {
  "kernelspec": {
   "display_name": "Python 2",
   "language": "python",
   "name": "python2"
  },
  "language_info": {
   "codemirror_mode": {
    "name": "ipython",
    "version": 2
   },
   "file_extension": ".py",
   "mimetype": "text/x-python",
   "name": "python",
   "nbconvert_exporter": "python",
   "pygments_lexer": "ipython2",
   "version": "2.7.16"
  }
 },
 "nbformat": 4,
 "nbformat_minor": 1
}
