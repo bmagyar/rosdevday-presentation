{
 "cells": [
  {
   "cell_type": "markdown",
   "metadata": {},
   "source": [
    "# ROS Developers Conference: Table segmentation with PCL  and TIAGo robot"
   ]
  },
  {
   "cell_type": "markdown",
   "metadata": {},
   "source": [
    "<img src=\"img/pal-logo.png\" width=\"400\" />"
   ]
  },
  {
   "cell_type": "markdown",
   "metadata": {},
   "source": [
    "The Point Cloud Library (PCL) is a standalone, large scale, open project for 2D/3D image and point cloud processing.\n",
    "You can check more information about on the following link: http://pointclouds.org/"
   ]
  },
  {
   "cell_type": "markdown",
   "metadata": {},
   "source": [
    "In the following Unit you are going to see different examples of Perception based on the PointCloud data that TIAGo camera provides using the PCL library. Basically, you are going to see the following:\n",
    "\n",
    "* Table Segmentation\n",
    "* Cylinder Detector\n",
    "* Region Based Segmentation"
   ]
  },
  {
   "cell_type": "markdown",
   "metadata": {},
   "source": [
    "But before actually getting to analyze each of the different examples, we'll need to set up TIAGo robot so it can have a better view of the objects on top of the table. For that, we're going to execute a motion that will raise TIAGo's torso and will lower its head. For doing this, you can follow the next steps."
   ]
  },
  {
   "cell_type": "markdown",
   "metadata": {},
   "source": [
    "## Launching the TIAGo simulation"
   ]
  },
  {
   "cell_type": "markdown",
   "metadata": {},
   "source": [
    "First of all, let's launch the TIAGo simulation. For that, open a web shell on the **Tools** menu and then launch the following command:"
   ]
  },
  {
   "cell_type": "markdown",
   "metadata": {},
   "source": [
    "<table style=\"float:left;background: #407EAF\">\n",
    "<tr>\n",
    "<th>\n",
    "<p class=\"transparent\">Execute in WebShell #1</p>\n",
    "</th>\n",
    "</tr>\n",
    "</table>"
   ]
  },
  {
   "cell_type": "code",
   "execution_count": null,
   "metadata": {
    "collapsed": true
   },
   "outputs": [],
   "source": [
    "roslaunch tiago_gazebo pcl_launch.launch"
   ]
  },
  {
   "cell_type": "markdown",
   "metadata": {},
   "source": [
    "Then, to see the simulation, go to **Tools->Gazebo**. A new window should appear, showing the TIAGo simulation."
   ]
  },
  {
   "cell_type": "markdown",
   "metadata": {},
   "source": [
    "<img src=\"img/pcl_lookdown.png\" width=\"500\" />"
   ]
  },
  {
   "cell_type": "markdown",
   "metadata": {},
   "source": [
    "Then, we'll load an specific file with motion definitions."
   ]
  },
  {
   "cell_type": "markdown",
   "metadata": {},
   "source": [
    "<table style=\"float:left;background: #407EAF\">\n",
    "<tr>\n",
    "<th>\n",
    "<p class=\"transparent\">Execute in WebShell #2</p>\n",
    "</th>\n",
    "</tr>\n",
    "</table>"
   ]
  },
  {
   "cell_type": "code",
   "execution_count": null,
   "metadata": {
    "collapsed": true
   },
   "outputs": [],
   "source": [
    "rosparam load `rospack find tiago_pcl_tutorial`/config/pcl_motions.yaml"
   ]
  },
  {
   "cell_type": "markdown",
   "metadata": {},
   "source": [
    "Now, let's make sure that the command worked correctly and that the motions have been loaded."
   ]
  },
  {
   "cell_type": "markdown",
   "metadata": {},
   "source": [
    "<table style=\"float:left;background: #407EAF\">\n",
    "<tr>\n",
    "<th>\n",
    "<p class=\"transparent\">Execute in WebShell #2</p>\n",
    "</th>\n",
    "</tr>\n",
    "</table>"
   ]
  },
  {
   "cell_type": "code",
   "execution_count": null,
   "metadata": {
    "collapsed": true
   },
   "outputs": [],
   "source": [
    "rosparam list"
   ]
  },
  {
   "cell_type": "markdown",
   "metadata": {},
   "source": [
    "Among all the parameters, you should detect one that is called **/play_motion/motions/look_down/**."
   ]
  },
  {
   "cell_type": "markdown",
   "metadata": {},
   "source": [
    "<img src=\"img/pcl_params_list.png\" width=\"600\" />"
   ]
  },
  {
   "cell_type": "markdown",
   "metadata": {},
   "source": [
    "Now, let's run axclient in order to send a goal to the **/play_motion** action."
   ]
  },
  {
   "cell_type": "markdown",
   "metadata": {},
   "source": [
    "<table style=\"float:left;background: #407EAF\">\n",
    "<tr>\n",
    "<th>\n",
    "<p class=\"transparent\">Execute in WebShell #2</p>\n",
    "</th>\n",
    "</tr>\n",
    "</table>"
   ]
  },
  {
   "cell_type": "code",
   "execution_count": null,
   "metadata": {
    "collapsed": true
   },
   "outputs": [],
   "source": [
    "rosrun actionlib axclient.py /play_motion"
   ]
  },
  {
   "cell_type": "markdown",
   "metadata": {},
   "source": [
    "and fill in the goal data like this:"
   ]
  },
  {
   "cell_type": "markdown",
   "metadata": {},
   "source": [
    "<img src=\"img/pcl_axclient2.png\" width=\"300\" />"
   ]
  },
  {
   "cell_type": "markdown",
   "metadata": {},
   "source": [
    "Finally, click on the **SEND GOAL** button, and you will see how TIAGo raises its torso and lowers its head."
   ]
  },
  {
   "cell_type": "markdown",
   "metadata": {},
   "source": [
    "<img src=\"img/pcl_lookdown.png\" width=\"500\" />"
   ]
  },
  {
   "cell_type": "markdown",
   "metadata": {},
   "source": [
    "Great! Now TIAGo is ready to perfectly visualize the table and the objets on top of it."
   ]
  },
  {
   "cell_type": "markdown",
   "metadata": {},
   "source": [
    "## Table Segmentation"
   ]
  },
  {
   "cell_type": "markdown",
   "metadata": {},
   "source": [
    "In this section you are going to see how to use the basic filters of PCL to achieve segmenting a table and all the objects on top of it."
   ]
  },
  {
   "cell_type": "markdown",
   "metadata": {},
   "source": [
    "Follow the next exercise in order to see a Pick & Place demo."
   ]
  },
  {
   "cell_type": "markdown",
   "metadata": {},
   "source": [
    "<p style=\"background:#EE9023;color:white;\">Exercise 5.1</p>"
   ]
  },
  {
   "cell_type": "markdown",
   "metadata": {},
   "source": [
    "a) Execute the following command in order to start the **segment_table** node."
   ]
  },
  {
   "cell_type": "markdown",
   "metadata": {},
   "source": [
    "<table style=\"float:left;background: #407EAF\">\n",
    "<tr>\n",
    "<th>\n",
    "<p class=\"transparent\">Execute in WebShell #2</p>\n",
    "</th>\n",
    "</tr>\n",
    "</table>"
   ]
  },
  {
   "cell_type": "code",
   "execution_count": null,
   "metadata": {
    "collapsed": true
   },
   "outputs": [],
   "source": [
    "roslaunch tiago_pcl_tutorial segment_table.launch"
   ]
  },
  {
   "cell_type": "markdown",
   "metadata": {},
   "source": [
    "Now, you should visualize in Rviz TIAGo in front of a colored point cloud representing the table, the objects on its top and a part of the floor."
   ]
  },
  {
   "cell_type": "markdown",
   "metadata": {},
   "source": [
    "<img src=\"img/pcl_cloud1.png\" width=\"600\" />"
   ]
  },
  {
   "cell_type": "markdown",
   "metadata": {},
   "source": [
    "The **segment_table** node subscribes to the point cloud obtained by the RGBD camera of TIAGo's head and applies several filters in order to segment the table. The node first applies a passthrough filter in order to remove the floor points. Then, a downsampling is applied in order to speed up subsequent computations. Afterwards, the main plane, i.e. the table, is located using sample consensus segmentation. Finally, outliers are removed using statistical trimming of those points too far from its neighbours."
   ]
  },
  {
   "cell_type": "markdown",
   "metadata": {},
   "source": [
    "The node publishes two additional point clouds:\n",
    "\n",
    "* **/segment_table/plane**\n",
    "* **/segment_table/nonplane**"
   ]
  },
  {
   "cell_type": "markdown",
   "metadata": {},
   "source": [
    "The first topic contains the portion of the original point cloud which has been considered taking part of the table."
   ]
  },
  {
   "cell_type": "markdown",
   "metadata": {},
   "source": [
    "<img src=\"img/pcl_cloud2.png\" width=\"600\" />"
   ]
  },
  {
   "cell_type": "markdown",
   "metadata": {},
   "source": [
    "The second point cloud contains the points corresponding to object lying on top of the table."
   ]
  },
  {
   "cell_type": "markdown",
   "metadata": {},
   "source": [
    "<img src=\"img/pcl_cloud3.png\" width=\"600\" />"
   ]
  },
  {
   "cell_type": "markdown",
   "metadata": {},
   "source": [
    "<p style=\"background:#EE9023;color:white;\">End of Exercise 5.1</p>"
   ]
  },
  {
   "cell_type": "markdown",
   "metadata": {},
   "source": [
    "Great! So now, you have already created a full map of the environment. So now what? Well, now it's time to save this map, so you can use it in the Pat Planning system!"
   ]
  },
  {
   "cell_type": "markdown",
   "metadata": {},
   "source": [
    "## Cylinder Detector"
   ]
  },
  {
   "cell_type": "markdown",
   "metadata": {},
   "source": [
    "In the following section you are going to see how to apply a sample consensus based segmentation algorithm from PCL in order to detect cylindrical objects in point clouds."
   ]
  },
  {
   "cell_type": "markdown",
   "metadata": {},
   "source": [
    "<p style=\"background:#EE9023;color:white;\">Exercise 5.2</p>"
   ]
  },
  {
   "cell_type": "markdown",
   "metadata": {},
   "source": [
    "a) Execute the following command in order to start the **segment_table** node with an extra argument."
   ]
  },
  {
   "cell_type": "markdown",
   "metadata": {},
   "source": [
    "<table style=\"float:left;background: #407EAF\">\n",
    "<tr>\n",
    "<th>\n",
    "<p class=\"transparent\">Execute in WebShell #2</p>\n",
    "</th>\n",
    "</tr>\n",
    "</table>"
   ]
  },
  {
   "cell_type": "code",
   "execution_count": null,
   "metadata": {
    "collapsed": true
   },
   "outputs": [],
   "source": [
    "roslaunch tiago_pcl_tutorial segment_table.launch show_rviz:=false"
   ]
  },
  {
   "cell_type": "markdown",
   "metadata": {},
   "source": [
    "b) Execute now the following command in order to start the cylinder detector algorithm."
   ]
  },
  {
   "cell_type": "markdown",
   "metadata": {},
   "source": [
    "<table style=\"float:left;background: #407EAF\">\n",
    "<tr>\n",
    "<th>\n",
    "<p class=\"transparent\">Execute in WebShell #3</p>\n",
    "</th>\n",
    "</tr>\n",
    "</table>"
   ]
  },
  {
   "cell_type": "code",
   "execution_count": null,
   "metadata": {
    "collapsed": true
   },
   "outputs": [],
   "source": [
    "roslaunch tiago_pcl_tutorial cylinder_detector.launch"
   ]
  },
  {
   "cell_type": "markdown",
   "metadata": {},
   "source": [
    "Rviz will show up showing three point clouds: the table point cloud, the non-table point cloud and a point cloud in yellow corresponding to the biggest cylinder fitted in the non-table point cloud. The cylindrical primitive best fitting the corresponding point cluster will be shown in cyan. Furthermore, the 3D pose of the reconstructed cylinder will be shown as a frame."
   ]
  },
  {
   "cell_type": "markdown",
   "metadata": {},
   "source": [
    "<img src=\"img/pcl_cylinder.png\" width=\"600\" />"
   ]
  },
  {
   "cell_type": "markdown",
   "metadata": {},
   "source": [
    "<img src=\"img/pcl_cylinder2.png\" width=\"600\" />"
   ]
  },
  {
   "cell_type": "markdown",
   "metadata": {},
   "source": [
    "<p style=\"background:#EE9023;color:white;\">End of Exercise 5.2</p>"
   ]
  },
  {
   "cell_type": "markdown",
   "metadata": {},
   "source": [
    "# How to launch the rosbag\n",
    "\n",
    "If you want to avoid the simulation, you can test also using a rosbag.\n",
    "\n",
    "I have included a rosbag with logged pointcloud information of the table. The rosbag is automatically included in the datasets_ws directory.\n",
    "\n",
    "## First, close all the previous code\n",
    "First you need to close all the previous programs.\n",
    "\n",
    "Press Ctrl+C in all the openned shells.\n",
    "\n",
    "## Second, let's launch the rosbag\n",
    "\n",
    "Open another shell and launch a roscore:"
   ]
  },
  {
   "cell_type": "code",
   "execution_count": null,
   "metadata": {
    "collapsed": true
   },
   "outputs": [],
   "source": [
    "roscore"
   ]
  },
  {
   "cell_type": "markdown",
   "metadata": {},
   "source": [
    "Open another shell and type the following:\n",
    "\n",
    "The rosbag will start paused. You only need to hit space to start running the rosbag (but remember to have the focus of the shell when you press space)."
   ]
  },
  {
   "cell_type": "code",
   "execution_count": null,
   "metadata": {
    "collapsed": true
   },
   "outputs": [],
   "source": [
    "cd ~/datasets_ws/rosbag\n",
    "rosbag play --pause -k --clock table_with_cylinders.bag"
   ]
  },
  {
   "cell_type": "markdown",
   "metadata": {},
   "source": [
    "# Cylinder detector code in detail\n",
    "\n"
   ]
  },
  {
   "cell_type": "markdown",
   "metadata": {},
   "source": [
    "The code of the cylinder_detector is available at: tiago_pcl_tutorial/src/nodes/cylinder_detector.cpp\n",
    "\n",
    "The main part of the code is the PointCloud callback:"
   ]
  },
  {
   "cell_type": "code",
   "execution_count": null,
   "metadata": {},
   "outputs": [],
   "source": [
    "void CylinderDetector::cloudCallback(const sensor_msgs::PointCloud2ConstPtr& cloud)\n",
    "{\n",
    "  \n",
    "  if ( (cloud->width * cloud->height) == 0)\n",
    "    return;\n",
    "\n",
    "  pcl::PointCloud<pcl::PointXYZRGB>::Ptr pclCloud(new pcl::PointCloud<pcl::PointXYZRGB>);\n",
    "  pcl::fromROSMsg(*cloud, *pclCloud);\n",
    "\n",
    "  pcl::PointCloud<pcl::PointXYZRGB>::Ptr pclCylinderCloud(new pcl::PointCloud<pcl::PointXYZRGB>);\n",
    "  pcl::ModelCoefficients::Ptr cylinderCoefficients(new pcl::ModelCoefficients);\n",
    "  bool found = pal::cylinderSegmentation<pcl::PointXYZRGB>(pclCloud,\n",
    "                                                           pclCylinderCloud,\n",
    "                                                           10,\n",
    "                                                           0.015, 0.08,\n",
    "                                                           cylinderCoefficients);\n",
    "\n",
    "  //filter outliers in the cylinder cloud\n",
    "  pcl::PointCloud<pcl::PointXYZRGB>::Ptr pclFilteredCylinderCloud(new pcl::PointCloud<pcl::PointXYZRGB>);\n",
    "  if ( pclCylinderCloud->empty() )\n",
    "    pclFilteredCylinderCloud = pclCylinderCloud;\n",
    "  else\n",
    "    pal::statisticalOutlierRemoval<pcl::PointXYZRGB>(pclCylinderCloud, 25, 1.0,pclFilteredCylinderCloud);\n",
    "\n",
    "  if ( found )\n",
    "  {\n",
    "    print(cylinderCoefficients, pclCylinderCloud->points.size());\n",
    "\n",
    "    Eigen::Vector3d projectedCentroid, lineVector;\n",
    "    getPointAndVector(pclFilteredCylinderCloud,\n",
    "                      cylinderCoefficients,\n",
    "                      projectedCentroid,\n",
    "                      lineVector);\n",
    "\n",
    "    double cylinderHeight = computeHeight(pclFilteredCylinderCloud,\n",
    "                                          projectedCentroid,\n",
    "                                          lineVector);\n",
    "\n",
    "//    ROS_INFO_STREAM(\"The cylinder centroid is (\" << centroid.head<3>().transpose() <<\n",
    "//                    \") and projected to its axis is (\" << projectedCentroid.transpose() << \")\");\n",
    "\n",
    "    Eigen::Matrix4d cylinderTransform;\n",
    "    //create a frame given the cylinder parameters (point and vector)\n",
    "    pal::pointAndLineTransform(lineVector,\n",
    "                               projectedCentroid,\n",
    "                               cylinderTransform);\n",
    "\n",
    "    publish(pclFilteredCylinderCloud,\n",
    "            cylinderCoefficients,\n",
    "            cylinderTransform,\n",
    "            cylinderHeight,\n",
    "            cloud->header);\n",
    "  }\n",
    "}"
   ]
  },
  {
   "cell_type": "markdown",
   "metadata": {},
   "source": [
    "The first function being called is the function pal::cylinderSegmentation, to retrieve the set of points that best fit the cylinder model, by using a RANSAC algorithm. The code of the function for more details is the following:"
   ]
  },
  {
   "cell_type": "code",
   "execution_count": null,
   "metadata": {
    "collapsed": true
   },
   "outputs": [],
   "source": [
    "/**\n",
    "     * @brief cylinderSegmentation\n",
    "     * @param inputCloud\n",
    "     * @param cylinderCloud\n",
    "     * @param neighbors number of neighbors considered to estimate the normals\n",
    "     * @param cylinderCoefficients\n",
    "     * @return\n",
    "     */\n",
    "    template <typename PointT>\n",
    "    bool cylinderSegmentation(const typename pcl::PointCloud<PointT>::Ptr& inputCloud,\n",
    "                              typename pcl::PointCloud<PointT>::Ptr& cylinderCloud,\n",
    "                              int neighbors,\n",
    "                              double minRadius,\n",
    "                              double maxRadius,\n",
    "                              pcl::ModelCoefficients::Ptr& cylinderCoefficients)\n",
    "    {\n",
    "      pcl::PointCloud<pcl::Normal>::Ptr normals(new pcl::PointCloud<pcl::Normal>);\n",
    "      estimateNormals<PointT>(inputCloud,\n",
    "                              neighbors,\n",
    "                              normals);\n",
    "\n",
    "      if ( normals->size() < 20 )\n",
    "        return false;\n",
    "\n",
    "      pcl::SACSegmentationFromNormals<PointT, pcl::Normal> seg;\n",
    "      pcl::PointIndices::Ptr inliers(new pcl::PointIndices);\n",
    "\n",
    "      seg.setOptimizeCoefficients(true);\n",
    "      seg.setModelType(pcl::SACMODEL_CYLINDER);\n",
    "      seg.setMethodType(pcl::SAC_RANSAC);\n",
    "      seg.setNormalDistanceWeight (0.1);\n",
    "      seg.setMaxIterations(10000);\n",
    "      seg.setDistanceThreshold(0.05);\n",
    "      seg.setRadiusLimits(minRadius, maxRadius);\n",
    "      seg.setInputCloud(inputCloud);\n",
    "      seg.setInputNormals(normals);\n",
    "        \n",
    "      // Best points fitting the cylinder model are retrieved\n",
    "      seg.segment(*inliers, *cylinderCoefficients);\n",
    "\n",
    "      if ( !inliers->indices.empty() )\n",
    "      {\n",
    "        //Extract inliers\n",
    "        pcl::ExtractIndices<PointT> extract;\n",
    "        extract.setInputCloud(inputCloud);\n",
    "        extract.setIndices(inliers);\n",
    "        extract.setNegative(false);\n",
    "        extract.filter(*cylinderCloud);\n",
    "        return true;\n",
    "      }\n",
    "      else\n",
    "        return false;\n",
    "    }\n"
   ]
  },
  {
   "cell_type": "markdown",
   "metadata": {},
   "source": [
    "The inliers points that best fit a cylinder are than furtherly filtered using pal::statisticalOutlierRemoval, that uses pcl library function for filtering outliers from the cloud based on their distance from neighbors points:"
   ]
  },
  {
   "cell_type": "code",
   "execution_count": null,
   "metadata": {
    "collapsed": true
   },
   "outputs": [],
   "source": [
    "   template <typename PointT>\n",
    "    void statisticalOutlierRemoval(const typename pcl::PointCloud<PointT>::Ptr& inputCloud,\n",
    "                                   int numberOfPoints,\n",
    "                                   double stdDevMult,\n",
    "                                   typename pcl::PointCloud<PointT>::Ptr& outputCloud)\n",
    "    {\n",
    "      pcl::StatisticalOutlierRemoval<PointT> filter;\n",
    "      filter.setInputCloud(inputCloud);\n",
    "      filter.setMeanK(numberOfPoints);\n",
    "      filter.setStddevMulThresh(stdDevMult);\n",
    "      filter.filter(*outputCloud);\n",
    "    }"
   ]
  },
  {
   "cell_type": "code",
   "execution_count": null,
   "metadata": {
    "collapsed": true
   },
   "outputs": [],
   "source": [
    "Finally the centroid of the cylinder is extracted"
   ]
  },
  {
   "cell_type": "markdown",
   "metadata": {},
   "source": [
    "## Region Based Segmentation"
   ]
  },
  {
   "cell_type": "markdown",
   "metadata": {},
   "source": [
    "In the following section you are going to see how to use a C++ node that subscribes to the point cloud of the RGBD camera of TIAGo's head and applies the PCL region growing tutorial (http://pointclouds.org/documentation/tutorials/region_growing_segmentation.php) to segment the scene in different clusters."
   ]
  },
  {
   "cell_type": "markdown",
   "metadata": {},
   "source": [
    "<p style=\"background:#EE9023;color:white;\">Exercise 5.3</p>"
   ]
  },
  {
   "cell_type": "markdown",
   "metadata": {},
   "source": [
    "a) Execute the following command in order to start the region bases segmentation demo."
   ]
  },
  {
   "cell_type": "markdown",
   "metadata": {},
   "source": [
    "<table style=\"float:left;background: #407EAF\">\n",
    "<tr>\n",
    "<th>\n",
    "<p class=\"transparent\">Execute in WebShell #1</p>\n",
    "</th>\n",
    "</tr>\n",
    "</table>"
   ]
  },
  {
   "cell_type": "code",
   "execution_count": null,
   "metadata": {
    "collapsed": true
   },
   "outputs": [],
   "source": [
    "roslaunch tiago_pcl_tutorial pcl_region.launch"
   ]
  },
  {
   "cell_type": "markdown",
   "metadata": {},
   "source": [
    "Now, you should visualize in Rviz a different coloured point cloud for every different segmented region."
   ]
  },
  {
   "cell_type": "markdown",
   "metadata": {},
   "source": [
    "<img src=\"img/pcl_regions.png\" width=\"600\" />"
   ]
  },
  {
   "cell_type": "markdown",
   "metadata": {},
   "source": [
    "<img src=\"img/pcl_regions2.png\" width=\"600\" />"
   ]
  },
  {
   "cell_type": "markdown",
   "metadata": {},
   "source": [
    "Alongside with RViz, a rqt_reconfigure GUI has also appeared. Selecting the pcl_regions node, a set of parameters can be tunned."
   ]
  },
  {
   "cell_type": "markdown",
   "metadata": {},
   "source": [
    "<img src=\"img/pcl_regions_rqt.png\" width=\"600\" />"
   ]
  },
  {
   "cell_type": "markdown",
   "metadata": {},
   "source": [
    "The parameters involve point cloud downsampling, in order to speed up the processing, and the region segmentation algorithm, which will have direct effect on the resulting number of regions and its morphology."
   ]
  },
  {
   "cell_type": "markdown",
   "metadata": {},
   "source": [
    "<p style=\"background:#EE9023;color:white;\">End of Exercise 5.3</p>"
   ]
  }
 ],
 "metadata": {
  "anaconda-cloud": {},
  "kernelspec": {
   "display_name": "Python 2",
   "language": "python",
   "name": "python2"
  },
  "language_info": {
   "codemirror_mode": {
    "name": "ipython",
    "version": 2
   },
   "file_extension": ".py",
   "mimetype": "text/x-python",
   "name": "python",
   "nbconvert_exporter": "python",
   "pygments_lexer": "ipython2",
   "version": "2.7.16"
  },
  "latex_metadata": {
   "chapter": "6 - Course Project",
   "chapter_title": "Chapter 6. Course Project",
   "course_title": "ROS NAVIGATION IN 5 DAYS"
  }
 },
 "nbformat": 4,
 "nbformat_minor": 1
}
