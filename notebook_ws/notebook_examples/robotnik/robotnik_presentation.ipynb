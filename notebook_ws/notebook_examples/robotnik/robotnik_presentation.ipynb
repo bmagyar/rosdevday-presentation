{
 "cells": [
  {
   "cell_type": "markdown",
   "metadata": {},
   "source": [
    "# Learning how to map, localize and navigate wheeled robots with ROS\n",
    "\n",
    "This notebook is additional material for the workshop created and provided for free by Román Navarro García. You can copy and distribute this notebook as long as you provide copy of this paragraph with it.\n",
    "\n",
    "\n",
    "## Why this course?\n",
    "\n",
    "Either you are starting with ROS or you already know something about how it works, there are some topics considered as basic ones that we should learn and improve continuosly. Amongst these topics, mapping, localization and navigation would be on top (or almost) of them.\n",
    "The goal of this course is to go through all the steps to create a map, load and localize a robot on it, and navigate through it by using the standard or most extended packages provided by ROS.\n",
    "\n",
    "## The robot\n",
    "\n",
    "![Summit XL Steel](images/SUMMIT_XL_STEEL_101.jpg)\n",
    "\n",
    "For this course we are going to use the [Summit XL Steel](https://www.robotnik.eu/mobile-robots/summit-xl-steel/) mobile robot. It is a four motors omni-directional robot with two 2D lidars to provide 360 degrees of coverage, two pan-tilt-zoom cameras, one (or two) rgbd camera, one IMU and a gps.\n",
    "\n",
    "## The packages \n",
    "\n",
    "This tutorial is intended to work for ROS Kinetic distro, though it should be compatible with newer versions. \n",
    "All the packages used are available in the official ROS distro and in the source repositories:\n",
    "\n",
    "* [robotnik_msgs](https://github.com/RobotnikAutomation/robotnik_msgs)\n",
    "* [robotnik_sensors](https://github.com/RobotnikAutomation/robotnik_sensors)\n",
    "* [summit_xl_common](https://github.com/RobotnikAutomation/summit_xl_common)\n",
    "* [summit_xl_sim](https://github.com/RobotnikAutomation/summit_xl_sim)\n",
    "\n",
    "## Contents\n",
    "\n",
    "1. How to create a map of an indoor environment\n",
    "  * Running the robot\n",
    "  * Running gmapping\n",
    "  * Moving the robot through the environment\n",
    "  * Saving the map\n",
    "2. How to use the map to localize the robot\n",
    "  * Running map_server\n",
    "  * Running amcl\n",
    "3. How to use the map and localization to make the robot move autonomously on the environment while avoiding obstacles\n",
    "  * Running move_base\n",
    "  * Rviz Navigation Display\n",
    "  * move_base config files"
   ]
  },
  {
   "cell_type": "markdown",
   "metadata": {},
   "source": [
    "## 1. How to create a map of an indoor environment\n",
    "\n",
    "In this section we will create and save a map by using the Summit XL Steel robot. To do that we will use the packages [gmapping](http://wiki.ros.org/gmapping) and [map_server](http://wiki.ros.org/map_server)\n",
    "\n",
    "* **gmapping** provides laser-based SLAM (Simultaneous Localization and Mapping). You can create a 2D occupancy grid map from laser and pose data.\n",
    "\n",
    "* **map_server** offers map data as a ROS Service. It also provides the **map_saver** command-line utility, which allows dynamically generated maps to be saved to file.\n",
    "\n",
    "### 1.1 Running the robot\n",
    "\n",
    "To run the robot and the demo environment you can use the following command:\n"
   ]
  },
  {
   "cell_type": "code",
   "execution_count": null,
   "metadata": {
    "scrolled": true
   },
   "outputs": [],
   "source": [
    "roslaunch summit_xl_sim_bringup summit_xls_complete.launch"
   ]
  },
  {
   "cell_type": "markdown",
   "metadata": {},
   "source": [
    "You can also look the launch file directly in the **Simulations panel**. \n",
    "\n",
    "After running the robot you should see something like this in Gazebo:\n",
    "\n",
    "![SummitXLS Gazebo](images/rdc_gazebo1.png)\n",
    "\n",
    "And something like this in RVIZ:\n",
    "\n",
    "![SummitXLS RVIZ](images/rdc_rviz1.png)\n",
    "\n",
    "This launch file is configured to allow the execution of multiple robots (up to 3) and multiple options like running navigation, localization, etc. on startup. \n",
    "\n",
    "By default, just the robot controller and sensors are launched. To simulate the omni-directional movement (x, y, thetha) , the robot uses the [Gazebo Planar Move Plugin](http://gazebosim.org/tutorials?tut=ros_gzplugins#PlanarMovePlugin). The rest of plugins for the sensors are also standard Gazebo plugins.\n"
   ]
  },
  {
   "cell_type": "markdown",
   "metadata": {},
   "source": [
    "### 1.2 Running gmapping\n",
    "\n",
    "To work with gmapping we need:\n",
    " * 2D Laserscan\n",
    " * Robot's odometry\n",
    " * Tfs\n",
    "\n",
    "To start gmapping we can run the following command in a terminal:"
   ]
  },
  {
   "cell_type": "code",
   "execution_count": null,
   "metadata": {},
   "outputs": [],
   "source": [
    "ROS_NAMESPACE=summit_xl_a roslaunch summit_xl_localization slam_gmapping.launch prefix:=summit_xl_a_"
   ]
  },
  {
   "cell_type": "markdown",
   "metadata": {},
   "source": [
    "You should see something like this in RVIZ (or *Tools/Graphical Tools*):\n",
    "\n",
    "![Rviz Gmapping 1](images/rdc_rviz_gmapping1.png)\n",
    "\n",
    "We have used the **ROS_NAMESPACE** environment variable to run everything inside the namespace *summit_xl_a*. This is because the all the launch files are intended to work in a \"multirobot ecosystem\", so we need to isolate all the nodes and topics in different namespaces.\n",
    "\n",
    "The argument **prefix** adds a prefix to all the frames of the robot, including map, odom, base_footprint, ...\n",
    "\n",
    "Below the default config file:"
   ]
  },
  {
   "cell_type": "code",
   "execution_count": null,
   "metadata": {
    "collapsed": true
   },
   "outputs": [],
   "source": [
    "<?xml version=\"1.0\"?>\n",
    "<launch>\n",
    "    <arg name=\"prefix\" default=\"summit_xl_\"/>\n",
    "    <arg name=\"scan_topic\" default=\"front_laser/scan\"/>\n",
    "    <arg name=\"map_frame\" default=\"$(arg prefix)map\"/> \n",
    "    <arg name=\"odom_frame\" default=\"$(arg prefix)odom\"/> \n",
    "    <arg name=\"base_frame\" default=\"$(arg prefix)base_link\"/> \n",
    "\n",
    "    <node pkg=\"gmapping\" type=\"slam_gmapping\" name=\"slam_gmapping\">\n",
    "      <remap from=\"scan\" to =\"$(arg scan_topic)\"/>\n",
    "      <param name=\"map_frame\" value=\"$(arg map_frame)\"/>\n",
    "      <param name=\"base_frame\" value=\"$(arg base_frame)\"/>\n",
    "      <param name=\"odom_frame\" value=\"$(arg odom_frame)\"/>\n",
    "      <param name=\"map_udpate_interval\" value=\"2.0\"/>\n",
    "      <param name=\"maxUrange\" value=\"16.0\"/>\n",
    "      <param name=\"sigma\" value=\"0.05\"/>\n",
    "      <param name=\"kernelSize\" value=\"1\"/>\n",
    "      <param name=\"lstep\" value=\"0.05\"/>\n",
    "      <param name=\"astep\" value=\"0.05\"/>\n",
    "      <param name=\"iterations\" value=\"5\"/>\n",
    "      <param name=\"lsigma\" value=\"0.075\"/>\n",
    "      <param name=\"ogain\" value=\"3.0\"/>\n",
    "      <param name=\"lskip\" value=\"0\"/>\n",
    "      <param name=\"srr\" value=\"0.1\"/>\n",
    "      <param name=\"srt\" value=\"0.2\"/>\n",
    "      <param name=\"str\" value=\"0.1\"/>\n",
    "      <param name=\"stt\" value=\"0.2\"/>\n",
    "      <param name=\"linearUpdate\" value=\"0.2\"/>\n",
    "      <param name=\"angularUpdate\" value=\"0.1\"/>\n",
    "      <param name=\"temporalUpdate\" value=\"3.0\"/>\n",
    "      <param name=\"resampleThreshold\" value=\"0.5\"/>\n",
    "      <param name=\"particles\" value=\"100\"/>\n",
    "      <param name=\"xmin\" value=\"-50.0\"/>\n",
    "      <param name=\"ymin\" value=\"-50.0\"/>\n",
    "      <param name=\"xmax\" value=\"50.0\"/>\n",
    "      <param name=\"ymax\" value=\"50.0\"/>\n",
    "      <param name=\"delta\" value=\"0.05\"/>\n",
    "      <param name=\"llsamplerange\" value=\"0.01\"/>\n",
    "      <param name=\"llsamplestep\" value=\"0.01\"/>\n",
    "      <param name=\"lasamplerange\" value=\"0.005\"/>\n",
    "      <param name=\"lasamplestep\" value=\"0.005\"/>\n",
    "    </node>\n",
    "</launch>\n"
   ]
  },
  {
   "cell_type": "markdown",
   "metadata": {},
   "source": [
    "The gmapping default configuration works pretty well. For further information visit the [gmapping ROS wiki](http://wiki.ros.org/gmapping)\n",
    "\n",
    "Anyway, the basic parameters and configuration you should check are:\n",
    "\n",
    "* **scan** topic. Sometimes we don't subscribe correctly if using namespaces or different topic names than 'scan'\n",
    "* **frames**. It's also important that all the frame names are correct.\n",
    "* **map_udpate_interval**. We need a value to get a good performance of the algorithm vs the computational load.\n",
    "* **maxUrange**. Short ranges in wide areas/environments will not create a valid map.\n",
    "* **linearUpdate,angularUpdate,temporalUpdate**. It establishes how fast the scans are going to be processed while the robot is moving.\n",
    "\n",
    "### 1.3 Moving the robot through the environment\n",
    "\n",
    "Once we have the robot and gmapping running we can start moving around with the robot to create the map. To do that we can use several ways. This time we'll use the teleop panel of rviz, that allows publishing linear and angular velocity references. There's a custom version of the standard teleop_panel in the workspace. This version allows setting the speed and disabling the command publication into the cmd_vel topic.\n",
    "\n",
    "To add the panel we have to:\n",
    "1. go to \"Panels/Add New Panel/teleop_panel/Teleop\". \n",
    "2. set the command topic \"/summit_xl_a/pad_teleop/cmd_vel\"\n",
    "3. interact with the visual marker to set linear and angular speed.\n",
    "\n",
    "![teleop panel](images/rdc_teleop_panel.png)\n",
    "\n",
    "As soon as we move and rotate the robot, the new map should start to grow. \n",
    "\n",
    "### 1.4 Saving the map\n",
    "\n",
    "When we consider we have a decent map, we can save into a file.\n",
    "\n",
    "We will save the map by using the **map_saver** node from map_server package.\n",
    "\n",
    "We have to open a new terminal an execute:\n"
   ]
  },
  {
   "cell_type": "code",
   "execution_count": null,
   "metadata": {
    "collapsed": true
   },
   "outputs": [],
   "source": [
    "ROS_NAMESPACE=summit_xl_a rosrun map_server map_saver -f map1"
   ]
  },
  {
   "cell_type": "code",
   "execution_count": null,
   "metadata": {
    "collapsed": true
   },
   "outputs": [],
   "source": [
    "[ INFO] [1529429306.186739706]: Waiting for the map\n",
    "[ INFO] [1529429306.464045430, 417.989000000]: Received a 1984 X 1984 map @ 0.050 m/pix\n",
    "[ INFO] [1529429306.464131838, 417.989000000]: Writing map occupancy data to map1.pgm\n",
    "[ INFO] [1529429306.918780244, 418.094000000]: Writing map occupancy data to map1.yaml\n",
    "[ INFO] [1529429306.918944170, 418.094000000]: Done"
   ]
  },
  {
   "cell_type": "markdown",
   "metadata": {},
   "source": [
    "The command will save a map with the name \"map1\", specified by the argument \"-f\".\n",
    "If everything is ok, the new map (.pgm and .yaml) should be located in the current path where you run the command. \n",
    "\n",
    "Now we are going to copy the map into the package **summit_xl_localization**.\n"
   ]
  },
  {
   "cell_type": "code",
   "execution_count": null,
   "metadata": {
    "collapsed": true
   },
   "outputs": [],
   "source": [
    "mkdir ~/simulation_ws/src/summit_xl_common/summit_xl_localization/maps/map1/\n",
    "mv map1.* ~/simulation_ws/src/summit_xl_common/summit_xl_localization/maps/map1/"
   ]
  },
  {
   "cell_type": "markdown",
   "metadata": {},
   "source": [
    "Now that we have the map we can stop gmapping by closing the terminal where it was running or pressing \"CTRL+C\". Once stopped, the transform between summit_xl_a_map and summit_xl_a_odom will dissapear.\n",
    "\n",
    "A full map is available as **rds_full** in the maps folder.\n",
    "\n",
    "It's time to move to the next topic! \n",
    "\n",
    "## 2. How to use the map to localize the robot\n",
    "\n",
    "In this section we will use the map created previosly and we will localize the robot on it. To do that we will use the packages [map_server](http://wiki.ros.org/map_server) and [amcl](http://wiki.ros.org/amcl).\n",
    "\n",
    " * **amcl** is a probabilistic localization system for a robot moving in 2D. It implements the adaptive (or KLD-sampling) Monte Carlo localization approach (as described by Dieter Fox), which uses a particle filter to track the pose of a robot against a known map.\n",
    "\n",
    "### 2.1 Running map_server\n",
    "\n",
    "We will run a map server that will use the map created in the previous section. \n",
    "\n",
    "Open a new terminal and execute:"
   ]
  },
  {
   "cell_type": "code",
   "execution_count": null,
   "metadata": {
    "collapsed": true
   },
   "outputs": [],
   "source": [
    "ROS_NAMESPACE=summit_xl_a roslaunch summit_xl_localization map_server.launch map_file:=rds_full/rds_full.yaml prefix:=summit_xl_a_"
   ]
  },
  {
   "cell_type": "markdown",
   "metadata": {},
   "source": [
    "Having a look to the launch file..."
   ]
  },
  {
   "cell_type": "code",
   "execution_count": null,
   "metadata": {
    "collapsed": true
   },
   "outputs": [],
   "source": [
    "<?xml version=\"1.0\"?>\n",
    "<launch>\n",
    "    <!-- maps inside the folder summit_xl_navigation/maps -->\n",
    "    <arg name=\"map_file\" default=\"map1/map1.yaml\"/>\n",
    "    <arg name=\"prefix\" default=\"summit_xl_\"/>\n",
    "    <arg name=\"frame_id\" default=\"$(arg prefix)map\"/>\n",
    "\n",
    "    <!-- Run the map server -->\n",
    "    <node name=\"map_server\" pkg=\"map_server\" type=\"map_server\" args=\"$(find summit_xl_localization)/maps/$(arg map_file)\">\n",
    "        <param name=\"frame_id\" value=\"$(arg frame_id)\"/>\n",
    "    </node>\n",
    "\n",
    "</launch>"
   ]
  },
  {
   "cell_type": "markdown",
   "metadata": {},
   "source": [
    "### 2.2 Running amcl\n",
    "\n",
    "To work with amcl we need:\n",
    "\n",
    "* 2D Laserscan\n",
    "* Tfs (transforms)\n",
    "* A map\n",
    "\n",
    "Now we will launch the amcl node. Open a new terminal a execute:"
   ]
  },
  {
   "cell_type": "code",
   "execution_count": null,
   "metadata": {
    "collapsed": true
   },
   "outputs": [],
   "source": [
    "ROS_NAMESPACE=summit_xl_a roslaunch summit_xl_localization amcl.launch prefix:=summit_xl_a_ odom_model_type:=omni"
   ]
  },
  {
   "cell_type": "code",
   "execution_count": null,
   "metadata": {
    "collapsed": true
   },
   "outputs": [],
   "source": [
    "process[summit_xl_a/amcl-1]: started with pid [19814]\n",
    "[ INFO] [1529431699.800209420, 1130.846000000]: Requesting the map...\n",
    "[ INFO] [1529431699.820685002, 1130.848000000]: Received a 1984X 1984 map @ 0.050 m/pix\n",
    "\n",
    "[ INFO] [1529431700.310701811, 1131.012000000]: Initializing likelihood field model; this can take some time on large maps...\n",
    "[ INFO] [1529431700.640262545, 1131.110000000]: Done initializing likelihood field model."
   ]
  },
  {
   "cell_type": "markdown",
   "metadata": {},
   "source": [
    "Having a look to launch file..."
   ]
  },
  {
   "cell_type": "code",
   "execution_count": null,
   "metadata": {
    "collapsed": true
   },
   "outputs": [],
   "source": [
    "<?xml version=\"1.0\"?>\n",
    "<launch>\n",
    "\n",
    "<arg name=\"prefix\" default=\"summit_xl_\"/>\n",
    "<arg name=\"x_init_pose\" default=\"0\"/>\n",
    "<arg name=\"y_init_pose\" default=\"0\"/>\n",
    "<arg name=\"z_init_pose\" default=\"0\"/>\n",
    "<arg name=\"scan_topic\" default=\"front_laser/scan\"/>\n",
    "<arg name=\"map_topic\" default=\"map\"/>\n",
    "<arg name=\"global_frame\" default=\"$(arg prefix)map\"/>\n",
    "<arg name=\"odom_frame\" default=\"$(arg prefix)odom\"/>\n",
    "<arg name=\"base_frame\" default=\"$(arg prefix)base_footprint\"/>\n",
    "<arg name=\"odom_model_type\" default=\"diff\"/> <!-- omni -->\n",
    "\n",
    "<node pkg=\"amcl\" type=\"amcl\" name=\"amcl\" output=\"screen\">\n",
    "  <remap from=\"scan\" to=\"$(arg scan_topic)\"/>\n",
    "  <remap from=\"map\" to=\"$(arg map_topic)\"/>\n",
    "\n",
    "  <!-- Publish scans from best pose at a max of 10 Hz -->\n",
    "  <param name=\"use_map_topic\" value=\"false\"/>\n",
    "  <param name=\"odom_model_type\" value=\"$(arg odom_model_type)\"/>\n",
    "  <param name=\"odom_alpha5\" value=\"0.1\"/>\n",
    "  <param name=\"transform_tolerance\" value=\"0.2\" />\n",
    "  <param name=\"gui_publish_rate\" value=\"10.0\"/>\n",
    "  <param name=\"laser_max_beams\" value=\"30\"/>\n",
    "  <param name=\"min_particles\" value=\"500\"/>\n",
    "  <param name=\"max_particles\" value=\"5000\"/>\n",
    "  <param name=\"kld_err\" value=\"0.05\"/>\n",
    "  <param name=\"kld_z\" value=\"0.99\"/>\n",
    "  <param name=\"odom_alpha1\" value=\"0.2\"/>\n",
    "  <param name=\"odom_alpha2\" value=\"0.2\"/>\n",
    "  <!-- translation std dev, m -->\n",
    "  <param name=\"odom_alpha3\" value=\"0.8\"/>\n",
    "  <param name=\"odom_alpha4\" value=\"0.2\"/>\n",
    "  <param name=\"laser_z_hit\" value=\"0.5\"/>\n",
    "  <param name=\"laser_z_short\" value=\"0.05\"/>\n",
    "  <param name=\"laser_z_max\" value=\"0.05\"/>\n",
    "  <param name=\"laser_z_rand\" value=\"0.5\"/>\n",
    "  <param name=\"laser_sigma_hit\" value=\"0.2\"/>\n",
    "  <param name=\"laser_lambda_short\" value=\"0.1\"/>\n",
    "  <param name=\"laser_lambda_short\" value=\"0.1\"/>\n",
    "  <param name=\"laser_model_type\" value=\"likelihood_field\"/>\n",
    "  <param name=\"laser_likelihood_max_dist\" value=\"2.0\"/>\n",
    "  <param name=\"update_min_d\" value=\"0.2\"/>\n",
    "  <param name=\"update_min_a\" value=\"0.5\"/>\n",
    "  <param name=\"odom_frame_id\" value=\"$(arg odom_frame)\"/>\n",
    "  <param name=\"base_frame_id\" value=\"$(arg base_frame)\"/>\n",
    "  <param name=\"global_frame_id\" value=\"$(arg global_frame)\"/>\n",
    "  <param name=\"resample_interval\" value=\"1\"/>\n",
    "  <param name=\"transform_tolerance\" value=\"0.1\"/>\n",
    "  <param name=\"recovery_alpha_slow\" value=\"0.0\"/>\n",
    "  <param name=\"recovery_alpha_fast\" value=\"0.0\"/>\n",
    "\n",
    "  <param name=\"initial_pose_x\" value =\"$(arg x_init_pose)\"/>\n",
    "  <param name=\"initial_pose_y\" value =\"$(arg y_init_pose)\"/>\n",
    "  <param name=\"initial_pose_z\" value =\"$(arg z_init_pose)\"/>\n",
    "  <param name=\"initial_pose_a\" value =\"0.0\"/>\n",
    "\n",
    "</node>\n",
    "\n",
    "</launch>"
   ]
  },
  {
   "cell_type": "markdown",
   "metadata": {},
   "source": [
    "After launching amcl, first thing we need to do is to init the pose of the robot in the map. We can do it by publishing into the topic \"/summit_xl_a/initialpose\" or by the RVIZ tool \"2D Pose Estimate\", moving the arrow where we consider the robot is located.\n",
    "\n",
    "![amcl 1](images/rdc_amcl1.png)\n",
    "\n",
    "When we set the pose, the robot model will move to that location and if we have a PoseArray marker subscribed to the \"/summit_xl_a/particlecloud\" we can see how the particle filter is working and the quality of the pose estimation.\n",
    "\n",
    "\n",
    "![amcl 2](images/rdc_amcl2.png)\n",
    "\n",
    "Moving the robot around, and if the initial position was correct, the particles dispersion will get reduced little by little.\n",
    "\n",
    "![amcl 3](images/rdc_amcl3.png)\n",
    "\n",
    "## 3 How to use the map and localization to make the robot move autonomously on the environment while avoiding obstacles\n",
    "\n",
    "\n",
    "In this section we will use the [move_base](http://wiki.ros.org/move_base) package to navigate autonomously by the current world and using the map we created before as well as localizing the robot with amcl.\n",
    "\n",
    " * **move_base** provides an implementation of an action that, given a goal in the world, will attempt to reach it with a mobile base\n",
    "\n",
    "\n",
    "### 3.1 Running move_base\n",
    "\n",
    "To work with move_base we need:\n",
    "\n",
    "* 2D Laserscan or Pointcloud\n",
    "* Tfs (transforms)\n",
    "* Odometry source\n",
    "* A map\n",
    "* A base controller\n",
    "\n",
    "![move_base diagram](http://wiki.ros.org/move_base?action=AttachFile&do=get&target=overview_tf.png)\n",
    "\n",
    "Move base is probably the most complex package that we've been seeing in this course.\n",
    "\n",
    "To launch move_base, open a new terminal and execute:"
   ]
  },
  {
   "cell_type": "code",
   "execution_count": null,
   "metadata": {
    "collapsed": true
   },
   "outputs": [],
   "source": [
    "ROS_NAMESPACE=summit_xl_a roslaunch summit_xl_navigation move_base.launch prefix:=summit_xl_a_ omni:=true"
   ]
  },
  {
   "cell_type": "markdown",
   "metadata": {},
   "source": [
    "Having a look to the launch file..."
   ]
  },
  {
   "cell_type": "code",
   "execution_count": null,
   "metadata": {
    "collapsed": true
   },
   "outputs": [],
   "source": [
    "<?xml version=\"1.0\"?>\n",
    "<launch>\n",
    "  <!-- TEB LOCAL PLANNER -->\n",
    "  <arg name=\"prefix\" default=\"summit_xl_\"/>\n",
    "  <arg name=\"cmd_vel_topic\" default=\"move_base/cmd_vel\"/> <!-- using twist mux -->\n",
    "  <arg name=\"odom_topic\" default=\"robotnik_base_control/odom\"/>\n",
    "  <arg name=\"global_frame\" default=\"$(arg prefix)map\"/>\n",
    "  <arg name=\"odom_frame\" default=\"$(arg prefix)odom\"/>\n",
    "  <arg name=\"base_frame\" default=\"$(arg prefix)base_footprint\"/>\n",
    "  <arg name=\"scan_topic\" default=\"front_laser/scan\"/>\n",
    "  <arg name=\"omni\" default=\"false\"/>\n",
    "\n",
    "  <!-- Run move_base -->\n",
    "  <node pkg=\"move_base\" type=\"move_base\" respawn=\"false\" name=\"move_base\">\n",
    "    <rosparam file=\"$(find summit_xl_navigation)/config/move_base_params.yaml\" command=\"load\" />\n",
    "    <rosparam file=\"$(find summit_xl_navigation)/config/costmap_common_params.yaml\" command=\"load\" ns=\"global_costmap\" />\n",
    "    <rosparam file=\"$(find summit_xl_navigation)/config/costmap_common_params.yaml\" command=\"load\" ns=\"local_costmap\" />\n",
    "    <rosparam file=\"$(find summit_xl_navigation)/config/local_costmap_params.yaml\" command=\"load\" />\n",
    "    <rosparam file=\"$(find summit_xl_navigation)/config/global_costmap_params_map.yaml\" command=\"load\" />\n",
    "    <rosparam if=\"$(arg omni)\" file=\"$(find summit_xl_navigation)/config/teb_local_planner_omni_params.yaml\" command=\"load\" />\n",
    "    <rosparam unless=\"$(arg omni)\" file=\"$(find summit_xl_navigation)/config/teb_local_planner_diff_params.yaml\" command=\"load\" />\n",
    "    <!-- reset frame_id parameters using user input data -->\n",
    "    <param name=\"global_costmap/obstacle_layer/scan/sensor_frame\" value=\"$(arg prefix)front_laser_link\"/>\n",
    "    <param name=\"local_costmap/obstacle_layer/scan/sensor_frame\" value=\"$(arg prefix)front_laser_link\"/>\n",
    "    <param name=\"global_costmap/obstacle_layer/scan/topic\" value=\"$(arg scan_topic)\"/>\n",
    "    <param name=\"local_costmap/obstacle_layer/scan/topic\" value=\"$(arg scan_topic)\"/>\n",
    "    <param name=\"local_costmap/global_frame\" value=\"$(arg odom_frame)\"/>\n",
    "    <param name=\"local_costmap/robot_base_frame\" value=\"$(arg base_frame)\"/>\n",
    "    <param name=\"global_costmap/global_frame\" value=\"$(arg global_frame)\"/>\n",
    "    <param name=\"global_costmap/robot_base_frame\" value=\"$(arg base_frame)\"/>\n",
    "    <param name=\"DWAPlannerROS/global_frame_id\" value=\"$(arg odom_frame)\"/>\n",
    "    <param name=\"TebLocalPlannerROS/map_frame\" value=\"$(arg global_frame)\"/>\n",
    "    <param name=\"base_local_planner\" value=\"teb_local_planner/TebLocalPlannerROS\" />\n",
    "    <param name=\"controller_frequency\" value=\"5.0\" />\n",
    "    <param name=\"controller_patience\" value=\"15.0\" />\n",
    "    <remap from=\"cmd_vel\" to=\"$(arg cmd_vel_topic)\" />\n",
    "    <remap from=\"odom\" to=\"$(arg odom_topic)\" />\n",
    "  </node>\n",
    "\n",
    "</launch>"
   ]
  },
  {
   "cell_type": "markdown",
   "metadata": {},
   "source": [
    "After running move_base we should be able to send goals to the robot by using the action \"/summit_xl_a/move_base\", the topic \"/summit_xl_a/move_base_simple/goal\" or the RVIZ tool \"2D Nav Goal\".\n",
    "\n",
    "![move_base 1](images/rdc_movebase1.png)\n",
    "\n",
    "### 3.2 Rviz Navigation Displays\n",
    "\n",
    "In this section we are going to configure RVIZ to provide really useful information about planning and costmap.\n",
    "\n",
    "* Global costmap\n",
    "* Global footprint\n",
    "* Local costmap\n",
    "* Local footprint for Teb is not available\n",
    "* Global plan\n",
    "* Local plan\n",
    "* Current goal\n",
    "\n",
    "After adding all of this visualization displays to RVIZ, it should look like this:\n",
    "\n",
    "![move_base 2](images/rdc_movebase2.png)\n",
    "\n",
    "Now, if we add some obstacles in the Gazebo world and set different goals, we'll see how move_base is plannig and avoiding collisions.\n",
    "\n",
    "### 3.3 move_base config files (optional)\n",
    "\n",
    "In this section we will have a look to main configuration files and parameters for move_base.\n",
    "\n",
    "Some of this params are overwritten in the launch file, above all all of them related with frames.\n",
    "\n",
    "#### move_base_params.yaml\n",
    "\n",
    "It contains global params.\n",
    "\n",
    "Examples:\n",
    "\n",
    "* **controller_frequency**: The rate in Hz at which to run the control loop and send velocity commands to the base.\n",
    "* **controller_patience**: How long the controller will wait in seconds without receiving a valid control before space-clearing operations are performed.\n",
    "\n",
    "* **planner_frequency**: The rate in Hz at which to run the global planning loop. If the frequency is set to 0.0, the global planner will only run when a new goal is received or the local planner reports that its path is blocked\n",
    "* **planner_patience**: How long the planner will wait in seconds in an attempt to find a valid plan before space-clearing operations are performed.\n",
    "\n",
    "\n",
    "#### costmap_common_params.yaml\n",
    "\n",
    "Costmap params common for global and local costmap.\n",
    "\n",
    "Examples:\n",
    "\n",
    "\n",
    "* footprint: Specification for the footprint of the robot.\n",
    "\n",
    "* inflation_layer:\n",
    " * inflation_radius: The radius in meters to which the map inflates obstacle cost values.\n",
    "\n",
    "* obstacle_layer:\n",
    " * obstacle_range: The default maximum distance from the robot at which an obstacle will be inserted into the cost map in meters. This can be over-ridden on a per-sensor basis.\n",
    " * raytrace_range: the default range in meters at which to raytrace out obstacles from the map using sensor data. This can be over-ridden on a per-sensor basis.\n",
    " * observation_sources: defines a namespace in which parameters can be set\n",
    " * scan: {sensor_frame: summit_xl_front_laser_link, data_type: LaserScan, topic: scan, marking: true, clearing: true}\n",
    "    \n",
    "\n",
    "#### local_costmap_params.yaml\n",
    "\n",
    "Costmap params specific for local costmap\n",
    "\n",
    "#### global_costmap_params_map.yaml\n",
    "\n",
    "Costmap params specific for global costmap\n",
    "\n"
   ]
  }
 ],
 "metadata": {
  "kernelspec": {
   "display_name": "Python 2",
   "language": "python",
   "name": "python2"
  },
  "language_info": {
   "codemirror_mode": {
    "name": "ipython",
    "version": 2
   },
   "file_extension": ".py",
   "mimetype": "text/x-python",
   "name": "python",
   "nbconvert_exporter": "python",
   "pygments_lexer": "ipython2",
   "version": "2.7.16"
  }
 },
 "nbformat": 4,
 "nbformat_minor": 1
}
