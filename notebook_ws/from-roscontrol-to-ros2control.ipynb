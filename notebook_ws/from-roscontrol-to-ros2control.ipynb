{
 "cells": [
  {
   "cell_type": "markdown",
   "metadata": {},
   "source": [
    "![ros_control_logo](images/logos/header_logos.png)"
   ]
  },
  {
   "cell_type": "markdown",
   "metadata": {},
   "source": [
    "![](images/logos/image_ROSDevDay21.png)"
   ]
  },
  {
   "cell_type": "markdown",
   "metadata": {},
   "source": [
    "# From ros_control to ros2_control #"
   ]
  },
  {
   "cell_type": "markdown",
   "metadata": {},
   "source": [
    "A brief, hands-on introduction to ros_control.\n",
    "We will use ROS Noetic to show you\n",
    "* when and how to use ros_control,\n",
    "* how to implement a Hardware Abstraction Layer (HAL),\n",
    "* how to implement a controller for your ros_control setup.\n",
    "\n",
    "Building on your newfound ros_control knowledge, we move to ROS2 Foxy and\n",
    "\n",
    "* introduce you to the concepts of ros2_control,\n",
    "* show you how to implement a System component (sub-HAL),\n",
    "* demonstrate how to implement a controller for a ros2_control setup.\n",
    "\n",
    "Buckle up, there's a lot to learn today!"
   ]
  },
  {
   "cell_type": "markdown",
   "metadata": {},
   "source": [
    "We are going to use a 2 degrees of freedom robot arm for demoing. \n",
    "![rrbot](images/rrbot.png)"
   ]
  },
  {
   "cell_type": "markdown",
   "metadata": {},
   "source": [
    "But here's a *small* list of robots that use ros_control\n",
    "![ROS1 ros_control robots](images/ros_control_montage.jpg)"
   ]
  },
  {
   "cell_type": "markdown",
   "metadata": {},
   "source": [
    "## WHO ARE WE"
   ]
  },
  {
   "cell_type": "markdown",
   "metadata": {},
   "source": [
    "### Bence Magyar, PhD in Robotics, Lead Software Engineer at FiveAI <div style=\"width: 100px;\">![bence_image](images/bence.jpeg)</div> \n",
    "maintainer at ros_control and ros2_control\n",
    "\n",
    "### ‪Denis Štogl, PhD in Robotics, Robotics Consultant at Stogl Robotics <div style=\"width: 100px;\">![denis_image](images/denis.jpeg)</div> \n",
    "maintainer at ros2_control\n"
   ]
  },
  {
   "cell_type": "markdown",
   "metadata": {},
   "source": [
    "## ros_control in a nutshell"
   ]
  },
  {
   "cell_type": "markdown",
   "metadata": {},
   "source": [
    "![](images/overview.png)"
   ]
  },
  {
   "cell_type": "markdown",
   "metadata": {},
   "source": [
    "* RobotHW is also referred to as the Hardware Abstraction Layer (HAL).\n",
    "* Controllers claim resources from controller manager (safe)\n",
    "* Controllers write set commands on claimed joint interface handles\n"
   ]
  },
  {
   "cell_type": "markdown",
   "metadata": {},
   "source": [
    "![interfaces_and_controllers](images/roscontrol_interfaces_controllers.png)"
   ]
  },
  {
   "cell_type": "markdown",
   "metadata": {},
   "source": [
    "Today we'll explain you how to write a RobotHW and a controller and what steps are important to pay attention to.\n",
    "\n",
    "For the first set of demos we are going to use the ROS Noetic environment. Make sure to source first."
   ]
  },
  {
   "cell_type": "markdown",
   "metadata": {},
   "source": [
    "```\n",
    "cd catkin_ws && source /opt/ros/noetic/setup.bash\n",
    "catkin_make \n",
    "```\n",
    "\n",
    "\n",
    "```\n",
    "source catkin_ws/devel/setup.bash\n",
    "```\n",
    "\n",
    "Let's take a look at the robot we'll use!\n",
    "```\n",
    "roslaunch rrbot_description view_robot.launch\n",
    "```"
   ]
  },
  {
   "cell_type": "markdown",
   "metadata": {},
   "source": [
    "## Implementing a ros_control RobotHW "
   ]
  },
  {
   "cell_type": "markdown",
   "metadata": {},
   "source": [
    "The general structure of RobotHW is as follows:\n",
    "* load URDF\n",
    "* establish controller_manager service interfaces\n",
    "* main loop\n",
    " * read()\n",
    " * update() -> call update() of controllers\n",
    " * write()"
   ]
  },
  {
   "cell_type": "markdown",
   "metadata": {},
   "source": [
    "The same as C++:\n",
    "DENIS INSERT HEADER CODE HERE"
   ]
  },
  {
   "cell_type": "markdown",
   "metadata": {},
   "source": [
    "INSERT CPP CODE HERE (EXTRACT)"
   ]
  },
  {
   "cell_type": "markdown",
   "metadata": {},
   "source": []
  },
  {
   "cell_type": "markdown",
   "metadata": {},
   "source": [
    "LAUNCH ROBOTHW WITH STATE PUBLISHER AND ECHO SOMETHING BY HAND"
   ]
  },
  {
   "cell_type": "markdown",
   "metadata": {},
   "source": []
  },
  {
   "cell_type": "markdown",
   "metadata": {},
   "source": [
    "## Implementing a controller for ros_control"
   ]
  },
  {
   "cell_type": "markdown",
   "metadata": {},
   "source": [
    "Let's take a look at how a controller is structured."
   ]
  },
  {
   "cell_type": "markdown",
   "metadata": {},
   "source": [
    "ADD SOME C++ EXAMPLE"
   ]
  },
  {
   "cell_type": "markdown",
   "metadata": {},
   "source": [
    "`roslaunch rrbot_bringup rrbot_with_rrbot_controller_array.launch`"
   ]
  },
  {
   "cell_type": "markdown",
   "metadata": {},
   "source": [
    "ADD COMMAND\n"
   ]
  },
  {
   "cell_type": "markdown",
   "metadata": {},
   "source": [
    "ADD C++ CHANGES"
   ]
  },
  {
   "cell_type": "markdown",
   "metadata": {},
   "source": [
    "`roslaunch rrbot_bringup rrbot_with_rrbot_controller.launch`"
   ]
  },
  {
   "cell_type": "markdown",
   "metadata": {},
   "source": [
    "ADD COMMAND"
   ]
  },
  {
   "cell_type": "markdown",
   "metadata": {},
   "source": [
    "But we can achieve this with a standard forward command controller:\n",
    "\n",
    "```roslaunch rrbot_bringup rrbot.launch```"
   ]
  },
  {
   "cell_type": "markdown",
   "metadata": {},
   "source": [
    "ADD COMMAND"
   ]
  },
  {
   "cell_type": "markdown",
   "metadata": {},
   "source": [
    "# ROS2 and ros\\_control = ros2\\_control"
   ]
  },
  {
   "cell_type": "markdown",
   "metadata": {},
   "source": [
    "In ros2_control, the functionalities of a HAL and RobotHW are separated. \n",
    "\n",
    "The role of HAL is taken by the ResourceManager which can manage multiple Sensor, System or Actuator components. \n",
    "These components serve as self-contained hardware drivers, essentially equivalent to ros_control's RobotHW."
   ]
  },
  {
   "cell_type": "markdown",
   "metadata": {},
   "source": [
    "![](images/components_architecture.png)\n"
   ]
  },
  {
   "cell_type": "markdown",
   "metadata": {},
   "source": [
    "For the following demos we'll use the ROS2 Foxy environment, make sure to run"
   ]
  },
  {
   "cell_type": "raw",
   "metadata": {},
   "source": [
    "source ros2_ws/install/setup.bash"
   ]
  },
  {
   "cell_type": "raw",
   "metadata": {},
   "source": [
    "colcon build --event-handlers console_cohesion+  --symlink-install"
   ]
  },
  {
   "cell_type": "markdown",
   "metadata": {},
   "source": [
    "Checking rrbot\n",
    "\n",
    "```\n",
    "ros2 launch rrbot_description view_robot.launch.py\n",
    "```"
   ]
  },
  {
   "cell_type": "markdown",
   "metadata": {},
   "source": [
    "![rrbot rviz](images/rrbot_gui.png)"
   ]
  },
  {
   "cell_type": "markdown",
   "metadata": {},
   "source": [
    "## Implementing a system component in ros2_control"
   ]
  },
  {
   "cell_type": "markdown",
   "metadata": {},
   "source": [
    "The integration of `ros2_control` is done through the `ros2_control` URDF tag\n",
    "\n",
    "```xml\n",
    "<ros2_control name=\"${name}\" type=\"system\">\n",
    "      <hardware>\n",
    "          <plugin>fake_components/GenericSystem</plugin>\n",
    "      </hardware>\n",
    "      <joint name=\"joint1\">\n",
    "        <command_interface name=\"position\">\n",
    "          <param name=\"min\">-1</param>\n",
    "          <param name=\"max\">1</param>\n",
    "        </command_interface>\n",
    "        <state_interface name=\"position\"/>\n",
    "      </joint>\n",
    "      <joint name=\"joint2\">\n",
    "        <command_interface name=\"position\">\n",
    "          <param name=\"min\">-1</param>\n",
    "          <param name=\"max\">1</param>\n",
    "        </command_interface>\n",
    "        <state_interface name=\"position\"/>\n",
    "      </joint>\n",
    "    </ros2_control>\n",
    "```\n",
    "\n",
    "which will pick our pre-supplied implementation of a system component that always \"simulates\" perfect execution."
   ]
  },
  {
   "cell_type": "markdown",
   "metadata": {},
   "source": [
    "Let's write one!"
   ]
  },
  {
   "cell_type": "markdown",
   "metadata": {},
   "source": [
    "```C++\n",
    "class RRBotHardwareInterface\n",
    "  : public hardware_interface::BaseInterface<hardware_interface::SystemInterface>\n",
    "{\n",
    "public:\n",
    "  RCLCPP_SHARED_PTR_DEFINITIONS(RRBotHardwareInterface)\n",
    "\n",
    "  RRBOT_HARDWARE_INTERFACE_PUBLIC\n",
    "  hardware_interface::return_type configure(const hardware_interface::HardwareInfo & info) override;\n",
    "\n",
    "  RRBOT_HARDWARE_INTERFACE_PUBLIC\n",
    "  std::vector<hardware_interface::StateInterface> export_state_interfaces() override;\n",
    "\n",
    "  RRBOT_HARDWARE_INTERFACE_PUBLIC\n",
    "  std::vector<hardware_interface::CommandInterface> export_command_interfaces() override;\n",
    "\n",
    "  RRBOT_HARDWARE_INTERFACE_PUBLIC\n",
    "  hardware_interface::return_type start() override;\n",
    "\n",
    "  RRBOT_HARDWARE_INTERFACE_PUBLIC\n",
    "  hardware_interface::return_type stop() override;\n",
    "\n",
    "  RRBOT_HARDWARE_INTERFACE_PUBLIC\n",
    "  hardware_interface::return_type read() override;\n",
    "\n",
    "  RRBOT_HARDWARE_INTERFACE_PUBLIC\n",
    "  hardware_interface::return_type write() override;\n",
    "\n",
    "private:\n",
    "  std::vector<double> hw_commands_;\n",
    "  std::vector<double> hw_states_;\n",
    "};\n",
    "```"
   ]
  },
  {
   "cell_type": "markdown",
   "metadata": {},
   "source": [
    "while in the cpp file..."
   ]
  },
  {
   "cell_type": "markdown",
   "metadata": {},
   "source": [
    "```C++\n",
    "hardware_interface::return_type RRBotHardwareInterface::read()\n",
    "{\n",
    "  // read robot states from hardware, in this example print only\n",
    "  RCLCPP_INFO(rclcpp::get_logger(\"RRBotHardwareInterface\"), \"Reading...\");\n",
    "\n",
    "  // write command to hardware, in this example do mirror command to states\n",
    "  for (size_t i = 0; i < hw_states_.size(); ++i){\n",
    "    RCLCPP_INFO(\n",
    "      rclcpp::get_logger(\"RRBotHardwareInterface\"),\n",
    "      \"Got state %.2f for joint %d!\", hw_states_[i], i);\n",
    "  }\n",
    "\n",
    "  return hardware_interface::return_type::OK;\n",
    "}\n",
    "\n",
    "hardware_interface::return_type RRBotHardwareInterface::write()\n",
    "{\n",
    "  // write command to hardware, in this example do mirror command to states\n",
    "  for (size_t i = 0; i < hw_commands_.size(); ++i){\n",
    "    hw_states_[i] = hw_commands_[i];\n",
    "  }\n",
    "\n",
    "  return hardware_interface::return_type::OK;\n",
    "}\n",
    "```"
   ]
  },
  {
   "cell_type": "markdown",
   "metadata": {},
   "source": [
    "The updated ros2_control tag will look like this:\n",
    "```xml\n",
    "<ros2_control name=\"${name}\" type=\"system\">\n",
    "      <hardware> \n",
    "        <plugin>rrbot_hardware_interface/RRBotHardwareInterface</plugin>\n",
    "      </hardware>\n",
    "      <joint name=\"joint1\">\n",
    "        <command_interface name=\"position\">\n",
    "          <param name=\"min\">-1</param>\n",
    "          <param name=\"max\">1</param>\n",
    "        </command_interface>\n",
    "        <state_interface name=\"position\"/>\n",
    "      </joint>\n",
    "      <joint name=\"joint2\">\n",
    "        <command_interface name=\"position\">\n",
    "          <param name=\"min\">-1</param>\n",
    "          <param name=\"max\">1</param>\n",
    "        </command_interface>\n",
    "        <state_interface name=\"position\"/>\n",
    "      </joint>\n",
    "</ros2_control>\n",
    "```"
   ]
  },
  {
   "cell_type": "markdown",
   "metadata": {},
   "source": [
    "## Implementing an array-based controller in ros2_control"
   ]
  },
  {
   "cell_type": "markdown",
   "metadata": {},
   "source": [
    "```C++\n",
    "class RRBotControllerArray : public controller_interface::ControllerInterface\n",
    "{\n",
    "public:\n",
    "  controller_interface::return_type init(const std::string & controller_name) override;\n",
    "\n",
    "  controller_interface::InterfaceConfiguration command_interface_configuration() const override;\n",
    "\n",
    "  controller_interface::InterfaceConfiguration state_interface_configuration() const override;\n",
    "\n",
    "  CallbackReturn on_configure(const rclcpp_lifecycle::State & previous_state) override;\n",
    "\n",
    "  CallbackReturn on_activate(const rclcpp_lifecycle::State & previous_state) override;\n",
    "\n",
    "  CallbackReturn on_deactivate(const rclcpp_lifecycle::State & previous_state) override;\n",
    "\n",
    "  controller_interface::return_type update() override;\n",
    "\n",
    "protected:\n",
    "  std::vector<std::string> joint_names_;\n",
    "  std::string interface_name_;\n",
    "\n",
    "  using ControllerCommandMsg = example_interfaces::msg::Float64MultiArray;\n",
    "\n",
    "  rclcpp::Subscription<ControllerCommandMsg>::SharedPtr command_subscriber_ = nullptr;\n",
    "  realtime_tools::RealtimeBuffer<std::shared_ptr<ControllerCommandMsg>> input_command_;\n",
    "\n",
    "  using ControllerStateMsg = control_msgs::msg::JointControllerState;\n",
    "  using ControllerStatePublisher = realtime_tools::RealtimePublisher<ControllerStateMsg>;\n",
    "\n",
    "  rclcpp::Publisher<ControllerStateMsg>::SharedPtr s_publisher_;\n",
    "  std::unique_ptr<ControllerStatePublisher> state_publisher_;\n",
    "};\n",
    "```"
   ]
  },
  {
   "cell_type": "markdown",
   "metadata": {},
   "source": [
    "Bring up ros2_control with the array-based controller running:\n",
    "```\n",
    "ros2 launch rrbot_bringup rrbot_with_rrbot_controller_array.launch.py\n",
    "```"
   ]
  },
  {
   "cell_type": "markdown",
   "metadata": {},
   "source": [
    "Let's test the controller by sending it some commands!\n",
    "\n",
    "```\n",
    "ros2 topic pub /rrbot_controller/commands example_interfaces/msg/Float64MultiArray \"data:\n",
    "- 0.5\n",
    "- 0.5\" \n",
    "```"
   ]
  },
  {
   "cell_type": "markdown",
   "metadata": {},
   "source": [
    "## Implementing a \"jog\" controller in ros2_control"
   ]
  },
  {
   "cell_type": "markdown",
   "metadata": {},
   "source": [
    "Let's replace Float64MultiArray with something more specific, such as JointJog. "
   ]
  },
  {
   "cell_type": "markdown",
   "metadata": {},
   "source": [
    "TODO SHOW MESSAGE LAYOUTS HERE"
   ]
  },
  {
   "cell_type": "markdown",
   "metadata": {},
   "source": [
    "Modifying the code of the previous controller, simply change the `ControllerCommandMsg` type in the header"
   ]
  },
  {
   "cell_type": "markdown",
   "metadata": {},
   "source": [
    "```C++\n",
    "class RRBotController : public controller_interface::ControllerInterface\n",
    "{\n",
    "public:\n",
    "  ...\n",
    "protected:\n",
    "  ...\n",
    "  \n",
    "  using ControllerCommandMsg = control_msgs::msg::JointJog;\n",
    "\n",
    "  ...\n",
    "};\n",
    "```"
   ]
  },
  {
   "cell_type": "markdown",
   "metadata": {},
   "source": [
    "...and re-adjust some of the implementation reference from `data` to `displacement`."
   ]
  },
  {
   "cell_type": "markdown",
   "metadata": {},
   "source": [
    "Testing the new controller: add controller and configuration file to launch file"
   ]
  },
  {
   "cell_type": "markdown",
   "metadata": {},
   "source": [
    "`ros2 launch rrbot_bringup rrbot_with_rrbot_controller.launch.py`"
   ]
  },
  {
   "cell_type": "markdown",
   "metadata": {},
   "source": [
    "Check which controllers are loaded now and which interfaces are claimed\n",
    "\n",
    "```\n",
    "ros2 control list_controllers\n",
    "```\n",
    "\n",
    "```\n",
    "ros2 control list_hardware_interfaces\n",
    "```"
   ]
  },
  {
   "cell_type": "markdown",
   "metadata": {},
   "source": [
    "Examine the state of the controller on the state topic or the joint states topic\n",
    "\n",
    "```\n",
    "ros2 topic echo /rrbot_controller/state\n",
    "```\n",
    "\n",
    "\n",
    "```\n",
    "ros2 topic echo /joint_states\n",
    "```\n",
    "\n",
    "```\n",
    "ros2 topic pub /rrbot_controller/commands control_msgs/msg/JointJog \"joint_names:\n",
    "- joint1\n",
    "- joint2\n",
    "displacements:\n",
    "- 0.5\n",
    "- 0.5\"\n",
    "```"
   ]
  },
  {
   "cell_type": "markdown",
   "metadata": {},
   "source": [
    "## [Concluding remarks]"
   ]
  },
  {
   "cell_type": "markdown",
   "metadata": {},
   "source": [
    "\n",
    "[Write here your conclusions]"
   ]
  },
  {
   "cell_type": "markdown",
   "metadata": {},
   "source": [
    "# References"
   ]
  },
  {
   "cell_type": "markdown",
   "metadata": {},
   "source": [
    "* [ros_control paper in the Journal of Open Source Software](https://joss.theoj.org/papers/10.21105/joss.00456)\n",
    "* ros_control\n",
    " * http://wiki.ros.org/ros_control\n",
    " * http://wiki.ros.org/ros_controllers (select individual controllers) \n",
    " * https://github.com/ros-controls/roadmap/blob/master /documentation_resources.md\n",
    "* ros2_control\n",
    " * https://ros-controls.github.io/control.ros.org/\n",
    " * https://github.com/ros-controls/ros2_control\n",
    " * https://github.com/ros-controls/ros2_controllers\n",
    " * https://github.com/ros-controls/ros2_control_demos"
   ]
  },
  {
   "cell_type": "markdown",
   "metadata": {},
   "source": [
    "# Extra ROSject Documentation\n",
    "\n",
    "All source code for ros_control on ROS Noetic can be found in `catkin_ws` while all resources for ros2_control on ROS Foxy is located in `ros2_ws`."
   ]
  }
 ],
 "metadata": {
  "kernelspec": {
   "display_name": "Python 3",
   "language": "python",
   "name": "python3"
  },
  "language_info": {
   "codemirror_mode": {
    "name": "ipython",
    "version": 3
   },
   "file_extension": ".py",
   "mimetype": "text/x-python",
   "name": "python",
   "nbconvert_exporter": "python",
   "pygments_lexer": "ipython3",
   "version": "3.8.5"
  }
 },
 "nbformat": 4,
 "nbformat_minor": 1
}
