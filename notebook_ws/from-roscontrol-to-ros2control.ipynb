{
 "cells": [
  {
   "cell_type": "markdown",
   "metadata": {},
   "source": [
    "\n"
   ]
  },
  {
   "cell_type": "markdown",
   "metadata": {},
   "source": []
  },
  {
   "cell_type": "markdown",
   "metadata": {},
   "source": [
    "![ros_control_logo](images/logos/logo_ros-controls.png) ![pal_logo](images/logos/palroboticslogo.png) ![denis_logo](images/logos/denis.png)"
   ]
  },
  {
   "cell_type": "markdown",
   "metadata": {},
   "source": [
    "![](images/logos/image_ROSDevDay21.png)"
   ]
  },
  {
   "cell_type": "markdown",
   "metadata": {},
   "source": [
    "# From ros_control to ros2_control #"
   ]
  },
  {
   "cell_type": "markdown",
   "metadata": {},
   "source": [
    "A brief, hands-on introduction to ros_control.\n",
    "We will use ROS Noetic to show you\n",
    "* when and how to use ros_control,\n",
    "* how to implement a Hardware Abstraction Layer (HAL),\n",
    "* how to implement a controller for your ros_control setup.\n",
    "\n",
    "Building on your newfound ros_control knowledge, we move to ROS2 Foxy and\n",
    "\n",
    "* introduce you to the concepts of ros2_control,\n",
    "* show you how to implement a System component (sub-HAL),\n",
    "* demonstrate how to implement a controller for a ros2_control setup.\n",
    "\n",
    "Buckle up, there's a lot to learn today!"
   ]
  },
  {
   "cell_type": "markdown",
   "metadata": {},
   "source": [
    "We are going to use a 2 degrees of freedom robot arm for demoing. \n",
    "![rrbot](images/rrbot.png)"
   ]
  },
  {
   "cell_type": "markdown",
   "metadata": {},
   "source": [
    "But here's a *small* list of robots that use ros_control\n",
    "![ROS1 ros_control robots](images/ros_control_montage.jpg)"
   ]
  },
  {
   "cell_type": "markdown",
   "metadata": {},
   "source": [
    "## WHO ARE WE"
   ]
  },
  {
   "cell_type": "markdown",
   "metadata": {},
   "source": [
    "### Bence Magyar, PhD in Robotics, Lead Software Engineer at FiveAI <div style=\"width: 100px;\">![bence_image](images/bence.jpeg)</div> \n",
    "maintainer at ros_control and ros2_control\n",
    "\n",
    "### ‪Denis Štogl, PhD in Robotics, Robotics Consultant at Stogl Robotics <div style=\"width: 100px;\">![denis_image](images/denis.jpeg)</div> \n",
    "maintainer at ros2_control\n"
   ]
  },
  {
   "cell_type": "markdown",
   "metadata": {},
   "source": [
    "## ros_control in a nutshell"
   ]
  },
  {
   "cell_type": "markdown",
   "metadata": {},
   "source": [
    "![](images/overview.png)"
   ]
  },
  {
   "cell_type": "markdown",
   "metadata": {},
   "source": [
    "* RobotHW is also referred to as the Hardware Abstraction Layer (HAL).\n",
    "* Controllers claim resources from controller manager (safe)\n",
    "* Controllers write set commands on claimed joint interface handles\n"
   ]
  },
  {
   "cell_type": "markdown",
   "metadata": {},
   "source": [
    "![interfaces_and_controllers](images/roscontrol_interfaces_controllers.png)"
   ]
  },
  {
   "cell_type": "markdown",
   "metadata": {},
   "source": [
    "Today we'll explain you how to write a RobotHW and a controller and what steps are important to pay attention to.\n",
    "\n",
    "For the first set of demos we are going to use the ROS Noetic environment. Make sure to source first."
   ]
  },
  {
   "cell_type": "raw",
   "metadata": {},
   "source": [
    "source catkin_ws/devel/setup.bash"
   ]
  },
  {
   "cell_type": "markdown",
   "metadata": {},
   "source": [
    "## Implementing a ros_control RobotHW "
   ]
  },
  {
   "cell_type": "markdown",
   "metadata": {},
   "source": [
    "[Include paragraphs with code (C++, Python, XML) or command lines if necessary, like the following three]"
   ]
  },
  {
   "cell_type": "markdown",
   "metadata": {},
   "source": []
  },
  {
   "cell_type": "markdown",
   "metadata": {},
   "source": []
  },
  {
   "cell_type": "markdown",
   "metadata": {},
   "source": [
    "## Implementing a controller for ros_control"
   ]
  },
  {
   "cell_type": "markdown",
   "metadata": {},
   "source": [
    "[Describe here step by step how to do and replicate your experiment/program/code result. The steps must be clear and reproducible by the audience. The clearer they are, the easier it will be for you to follow along the notes during your presentation]"
   ]
  },
  {
   "cell_type": "markdown",
   "metadata": {},
   "source": [
    "[Include paragraphs with code (C++, Python, XML) or command lines if necessary, like the following three]"
   ]
  },
  {
   "cell_type": "markdown",
   "metadata": {},
   "source": [
    "[ex. of command line]"
   ]
  },
  {
   "cell_type": "code",
   "execution_count": null,
   "metadata": {},
   "outputs": [],
   "source": [
    "$ cd /home/user/simulation_ws/src"
   ]
  },
  {
   "cell_type": "markdown",
   "metadata": {},
   "source": [
    "[ex. of launch file]"
   ]
  },
  {
   "cell_type": "code",
   "execution_count": null,
   "metadata": {},
   "outputs": [],
   "source": [
    "<?xml version=\"1.0\"?>\n",
    "<launch>\n",
    "    <!-- maps inside the folder summit_xl_navigation/maps -->\n",
    "    <arg name=\"map_file\" default=\"map1/map1.yaml\"/>\n",
    "    <arg name=\"prefix\" default=\"summit_xl_\"/>\n",
    "    <arg name=\"frame_id\" default=\"$(arg prefix)map\"/>\n",
    "\n",
    "    <!-- Run the map server -->\n",
    "    <node name=\"map_server\" pkg=\"map_server\" type=\"map_server\" args=\"$(find summit_xl_localization)/maps/$(arg map_file)\">\n",
    "        <param name=\"frame_id\" value=\"$(arg frame_id)\"/>\n",
    "    </node>\n",
    "\n",
    "</launch>"
   ]
  },
  {
   "cell_type": "markdown",
   "metadata": {},
   "source": [
    "[ex. of C++ code]"
   ]
  },
  {
   "cell_type": "code",
   "execution_count": null,
   "metadata": {},
   "outputs": [],
   "source": [
    "if ( !inliers->indices.empty() )\n",
    "{\n",
    "    //Extract inliers\n",
    "    pcl::ExtractIndices<PointT> extract;\n",
    "    extract.setInputCloud(inputCloud);\n",
    "    extract.setIndices(inliers);\n",
    "    extract.setNegative(false);\n",
    "    extract.filter(*cylinderCloud);\n",
    "    return true;\n",
    "}"
   ]
  },
  {
   "cell_type": "markdown",
   "metadata": {},
   "source": [
    "[Include images of the expected results to help audience understand your point, like the following image]"
   ]
  },
  {
   "cell_type": "markdown",
   "metadata": {},
   "source": [
    "![](images/rosject_images/sim7.png)"
   ]
  },
  {
   "cell_type": "markdown",
   "metadata": {},
   "source": [
    "[If you need extra code already available to the audience (for example, in case you want to use an arm robot with MoveIt and you need the MoveIt configuration already done) you can upload the code and ROS packages to the catkin_ws/src directory using the IDE->Upload option]"
   ]
  },
  {
   "cell_type": "markdown",
   "metadata": {},
   "source": [
    "[If you need to provide a dataset, follow instructions below about how to create/upload a dataset and provide it to audience]"
   ]
  },
  {
   "cell_type": "markdown",
   "metadata": {},
   "source": [
    "# ROS2 and ros\\_control = ros2\\_control"
   ]
  },
  {
   "cell_type": "markdown",
   "metadata": {},
   "source": [
    "In ros2_control, the functionalities of a HAL and RobotHW are separated. The role of HAL is taken by the ResourceManager which can manage multiple Sensor, System or Actuator components which serve as self-contained hardware drivers, essentially equivalent to ros_control's RobotHW."
   ]
  },
  {
   "cell_type": "markdown",
   "metadata": {},
   "source": [
    "![](images/components_architecture.png)\n"
   ]
  },
  {
   "cell_type": "markdown",
   "metadata": {},
   "source": [
    "For the following demos we'll use the ROS2 Foxy environment, make sure to run"
   ]
  },
  {
   "cell_type": "raw",
   "metadata": {},
   "source": [
    "source ros2_ws/install/setup.bash"
   ]
  },
  {
   "cell_type": "raw",
   "metadata": {},
   "source": [
    "colcon build --event-handlers console_cohesion+  --symlink-install"
   ]
  },
  {
   "cell_type": "markdown",
   "metadata": {},
   "source": [
    "Checking rrbot\n",
    "\n",
    "```\n",
    "ros2 launch rrbot_description view_robot.launch.py\n",
    "```"
   ]
  },
  {
   "cell_type": "markdown",
   "metadata": {},
   "source": [
    "![rrbot rviz](images/rrbot_gui.png)"
   ]
  },
  {
   "cell_type": "markdown",
   "metadata": {},
   "source": [
    "## Implementing a system component in ros2_control"
   ]
  },
  {
   "cell_type": "code",
   "execution_count": null,
   "metadata": {},
   "outputs": [],
   "source": []
  },
  {
   "cell_type": "code",
   "execution_count": null,
   "metadata": {},
   "outputs": [],
   "source": []
  },
  {
   "cell_type": "markdown",
   "metadata": {},
   "source": [
    "## Implementing a controller in ros2_control"
   ]
  },
  {
   "cell_type": "markdown",
   "metadata": {},
   "source": [
    "Creating a new controller "
   ]
  },
  {
   "cell_type": "markdown",
   "metadata": {},
   "source": [
    "Denis: abbreviate this?\n",
    "\n",
    "```C++\n",
    "class RRBotController : public controller_interface::ControllerInterface\n",
    "{\n",
    "public:\n",
    "  RRBotController();\n",
    "\n",
    "  controller_interface::return_type init(const std::string & controller_name) override;\n",
    "\n",
    "  controller_interface::InterfaceConfiguration command_interface_configuration() const override;\n",
    "\n",
    "  controller_interface::InterfaceConfiguration state_interface_configuration() const override;\n",
    "\n",
    "  CallbackReturn on_configure(const rclcpp_lifecycle::State & previous_state) override;\n",
    "\n",
    "  CallbackReturn on_activate(const rclcpp_lifecycle::State & previous_state) override;\n",
    "\n",
    "  CallbackReturn on_deactivate(const rclcpp_lifecycle::State & previous_state) override;\n",
    "\n",
    "  controller_interface::return_type update() override;\n",
    "\n",
    "protected:\n",
    "  std::vector<std::string> joint_names_;\n",
    "  std::string interface_name_;\n",
    "\n",
    "  // TODO(anyone): replace the state and command message types\n",
    "  // Command subscribers and Controller State publisher\n",
    "  using ControllerCommandMsg = control_msgs::msg::JointJog;\n",
    "\n",
    "  rclcpp::Subscription<ControllerCommandMsg>::SharedPtr command_subscriber_ = nullptr;\n",
    "  realtime_tools::RealtimeBuffer<std::shared_ptr<ControllerCommandMsg>> input_command_;\n",
    "\n",
    "  using ControllerStateMsg = control_msgs::msg::JointControllerState;\n",
    "  using ControllerStatePublisher = realtime_tools::RealtimePublisher<ControllerStateMsg>;\n",
    "\n",
    "  rclcpp::Publisher<ControllerStateMsg>::SharedPtr s_publisher_;\n",
    "  std::unique_ptr<ControllerStatePublisher> state_publisher_;\n",
    "};\n",
    "```"
   ]
  },
  {
   "cell_type": "markdown",
   "metadata": {},
   "source": [
    "Testing the new controller: add controller and configuration file to launch file"
   ]
  },
  {
   "cell_type": "markdown",
   "metadata": {},
   "source": [
    "`ros2 launch rrbot_bringup rrbot_with_rrbot_controller.launch.py`"
   ]
  },
  {
   "cell_type": "markdown",
   "metadata": {},
   "source": [
    "Check which controllers are loaded now and which interfaces are claimed\n",
    "\n",
    "```\n",
    "ros2 control list_controllers\n",
    "```\n",
    "\n",
    "```\n",
    "ros2 control list_hardware_interfaces\n",
    "```"
   ]
  },
  {
   "cell_type": "markdown",
   "metadata": {},
   "source": [
    "Examine the state of the controller on the state topic or the joint states topic\n",
    "\n",
    "```ros2 topic echo /rrbot_controller/state```\n",
    "\n",
    "\n",
    "```ros2 topic echo /joint_states```\n"
   ]
  },
  {
   "cell_type": "markdown",
   "metadata": {},
   "source": [
    "## [Concluding remarks]"
   ]
  },
  {
   "cell_type": "markdown",
   "metadata": {},
   "source": [
    "\n",
    "[Write here your conclusions]"
   ]
  },
  {
   "cell_type": "markdown",
   "metadata": {},
   "source": [
    "# References"
   ]
  },
  {
   "cell_type": "markdown",
   "metadata": {},
   "source": [
    "* [ros_control paper in the Journal of Open Source Software](https://joss.theoj.org/papers/10.21105/joss.00456)\n",
    "* ros_control\n",
    "** http://wiki.ros.org/ros_control\n",
    "** http://wiki.ros.org/ros_controllers (select individual controllers)\n",
    "** https://github.com/ros-controls/roadmap/blob/master/documentation_resources.md\n",
    "* ros2_control\n",
    "** https://ros-controls.github.io/control.ros.org/\n",
    "** https://github.com/ros-controls/ros2_control\n",
    "** https://github.com/ros-controls/ros2_controllers\n",
    "** https://github.com/ros-controls/ros2_control_demos"
   ]
  },
  {
   "cell_type": "markdown",
   "metadata": {},
   "source": [
    "# Extra ROSject Documentation\n",
    "\n",
    "[You can delete all the information in this section if you don't need it]"
   ]
  }
 ],
 "metadata": {
  "kernelspec": {
   "display_name": "Python 3",
   "language": "python",
   "name": "python3"
  },
  "language_info": {
   "codemirror_mode": {
    "name": "ipython",
    "version": 3
   },
   "file_extension": ".py",
   "mimetype": "text/x-python",
   "name": "python",
   "nbconvert_exporter": "python",
   "pygments_lexer": "ipython3",
   "version": "3.8.5"
  }
 },
 "nbformat": 4,
 "nbformat_minor": 1
}
